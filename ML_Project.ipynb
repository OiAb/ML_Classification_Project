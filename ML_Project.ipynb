{
  "nbformat": 4,
  "nbformat_minor": 0,
  "metadata": {
    "colab": {
      "name": "ML_Project.ipynb",
      "provenance": [],
      "collapsed_sections": [],
      "toc_visible": true
    },
    "kernelspec": {
      "display_name": "Python 3",
      "name": "python3"
    }
  },
  "cells": [
    {
      "cell_type": "markdown",
      "metadata": {
        "id": "uYMYyEZ0rt5s"
      },
      "source": [
        "# **Rapport sur le sujet : Prédiction des tentatives suicidaires**"
      ]
    },
    {
      "cell_type": "markdown",
      "metadata": {
        "id": "4cMe1a46r-AB"
      },
      "source": [
        "Le sujet de notre étude vise à analyser un jeu de données issu d'un sondage effectué sur le subreddit Foreveralone. Il répertorie de nombreuses caractéristiques des personnes dont une indiquant si la personne a déjà effectué une tentative de suicide ou non. Notre but est d'analyser ce dataset et d'utiliser différentes méthodes de Machine Learning pour prédire les profils des personnes qui sont celles ayant le plus tendance à tenter de mettre fin à leurs jours. Sur ce, nous sommes essentiellement amenés à fournir un prédicteur h qui pour un individu donné pourrait prédire son appartenance à une des classes suivantes : 1 : tentative suicidaire, 2 : cas contraire, en se basant sur des exemples de paires entrée-sortie.\n",
        "\n",
        "\n",
        "\n"
      ]
    },
    {
      "cell_type": "markdown",
      "metadata": {
        "id": "yCDtMhB9seBz"
      },
      "source": [
        "# **Choix du sujet**"
      ]
    },
    {
      "cell_type": "markdown",
      "metadata": {
        "id": "zyObOjvAs3tG"
      },
      "source": [
        "On trouve parmi les raisons qui nous ont encouragés à choisir notre sujet : \n",
        "\n",
        "- Sujet très peu traité en Machine Learning (on traite souvent le taux de suicide) \n",
        "- Curiosité de savoir quels sont les facteurs qui poussent un individu à tenter de se suicider \n",
        "- Suite à notre étude, on pourra sensibiliser les individus sur les raisons derrière un suicide"
      ]
    },
    {
      "cell_type": "markdown",
      "metadata": {
        "id": "i2Lrc-kBum3Y"
      },
      "source": [
        "# **Identification des tâches à réaliser**"
      ]
    },
    {
      "cell_type": "markdown",
      "metadata": {
        "id": "lb_lH8PQuzSe"
      },
      "source": [
        "- Analyser le dataset \n",
        "- Nettoyer le dataset \n",
        "- Choisir nos features \n",
        "- Définir les modèles \n",
        "- Implémenter les algorithmes \n",
        "- Evaluer la performance de notre étude \n",
        "- Réaliser un prédicteur"
      ]
    },
    {
      "cell_type": "markdown",
      "metadata": {
        "id": "Ww_e7vv3vDJl"
      },
      "source": [
        "Premièrement, nous allons importer les bibliothèques dont nous aurons besoin"
      ]
    },
    {
      "cell_type": "code",
      "metadata": {
        "id": "Nkj0cAjPUm8Y"
      },
      "source": [
        "%matplotlib inline\n",
        "import pandas as pd\n",
        "import numpy as np\n",
        "import matplotlib.pyplot as plt\n",
        "import sklearn\n",
        "from IPython.display import display\n",
        "  "
      ],
      "execution_count": null,
      "outputs": []
    },
    {
      "cell_type": "markdown",
      "metadata": {
        "id": "0j6mLL1CxoJ3"
      },
      "source": [
        "Nous allons lire les données à partir du fichier foreveralone.csv que nous avons déposé dans le dossier content."
      ]
    },
    {
      "cell_type": "code",
      "metadata": {
        "collapsed": true,
        "id": "mAxyY25jAfHG"
      },
      "source": [
        "data_suicide = pd.read_csv('/content/foreveralone.csv',encoding = \"ISO-8859-1\")\n",
        "data_suicide.head()"
      ],
      "execution_count": null,
      "outputs": []
    },
    {
      "cell_type": "markdown",
      "metadata": {
        "id": "wndlXHDklgyP"
      },
      "source": [
        "On retire les colonnes du dataset qui ne sont pas pertinentes pour la prédiction ou trop difficile à traiter."
      ]
    },
    {
      "cell_type": "markdown",
      "metadata": {
        "id": "LshlFXuD7UvO"
      },
      "source": [
        "# **L'analyse de données**"
      ]
    },
    {
      "cell_type": "markdown",
      "metadata": {
        "id": "UPVcGYQu7d2z"
      },
      "source": [
        "Dans cette partie, on essaie d'analyser et visuliser nos données et puis diviser notre sujet ou une substance complexe en parties plus petites afin d'en acquérir une meilleure compréhension et interprétation."
      ]
    },
    {
      "cell_type": "code",
      "metadata": {
        "collapsed": true,
        "id": "WvxoA1SeH0E0"
      },
      "source": [
        "data_suicide = data_suicide.drop(['time', 'pay_for_sex', 'prostitution_legal', 'job_title'], axis=1)\n",
        "data_suicide.head()"
      ],
      "execution_count": null,
      "outputs": []
    },
    {
      "cell_type": "code",
      "metadata": {
        "collapsed": true,
        "id": "GfWLqgV2oGBE"
      },
      "source": [
        "data_suicide.shape"
      ],
      "execution_count": null,
      "outputs": []
    },
    {
      "cell_type": "code",
      "metadata": {
        "collapsed": true,
        "id": "pRcpNtfbHh1g"
      },
      "source": [
        "data_suicide.columns"
      ],
      "execution_count": null,
      "outputs": []
    },
    {
      "cell_type": "markdown",
      "metadata": {
        "id": "Z8NKOEIEl-if"
      },
      "source": [
        "On cherche si si notre dataset comporte des valeurs nulles"
      ]
    },
    {
      "cell_type": "code",
      "metadata": {
        "collapsed": true,
        "id": "seCa9s6eITBh"
      },
      "source": [
        "data_suicide.isna().sum()"
      ],
      "execution_count": null,
      "outputs": []
    },
    {
      "cell_type": "markdown",
      "metadata": {
        "id": "hbcjOSh8mXnk"
      },
      "source": [
        "La façon dont a été généré ce dataset nous a obligé à éliminer certaines réponses non pertinentes.\n"
      ]
    },
    {
      "cell_type": "code",
      "metadata": {
        "collapsed": true,
        "id": "S_OQn4vnN93b"
      },
      "source": [
        "i1 = data_suicide[(data_suicide.race == 'First two answers. Gender is androgyne, not male; sexuality is asexual, not bi.')].index\n",
        "i2 = data_suicide[(data_suicide.race == 'helicopterkin') ].index\n",
        "data_suicide = data_suicide.drop(i1)\n",
        "data_suicide = data_suicide.drop(i2)\n",
        "data_suicide.shape"
      ],
      "execution_count": null,
      "outputs": []
    },
    {
      "cell_type": "markdown",
      "metadata": {
        "id": "UO2BXCMWmcVq"
      },
      "source": [
        "On change le \"gender\" en valeurs binaires, et les deux autres valeurs de \"Transgender Male\" et \"Transgender Female\" sont changées pour correspondre à l'un des deux.\n",
        "\n"
      ]
    },
    {
      "cell_type": "code",
      "metadata": {
        "collapsed": true,
        "id": "aMlqAACDpvhM"
      },
      "source": [
        "data_suicide['gender'] = data_suicide['gender'].replace({'Male':1,'Female':0, 'Transgender male':1, 'Transgender female':0})\n",
        "data_suicide.head()"
      ],
      "execution_count": null,
      "outputs": []
    },
    {
      "cell_type": "markdown",
      "metadata": {
        "id": "L3BbqELbmk4_"
      },
      "source": [
        "On procède de même avec \"sexuality\" en séparant \"Straight\" du reste."
      ]
    },
    {
      "cell_type": "code",
      "metadata": {
        "collapsed": true,
        "id": "6e-dOkwFqEFp"
      },
      "source": [
        "data_suicide['sexuallity'] = data_suicide['sexuallity'].replace({'Straight':1,'Bisexual':0, 'Gay/Lesbian':0})\n",
        "data_suicide.head()"
      ],
      "execution_count": null,
      "outputs": []
    },
    {
      "cell_type": "markdown",
      "metadata": {
        "id": "_CvoWutrmoSM"
      },
      "source": [
        "Pour le \"income\", chaque réponse possible est devenue une colonne à part entière. Chaque ligne ne présente donc qu'un unique 1 parmi ces colonnes. On renomme également ces colonnes pour qu'elles soient plus parlantes."
      ]
    },
    {
      "cell_type": "code",
      "metadata": {
        "collapsed": true,
        "id": "nkQA2Gdwu5N8"
      },
      "source": [
        "A = pd.get_dummies(data_suicide['income'])\n",
        "data_suicide = data_suicide.drop('income', axis=1)\n",
        "data_suicide = pd.concat([data_suicide, A], axis=1)\n",
        "data_suicide=data_suicide.rename(columns={'$0': 'income $0',\n",
        "       '$1 to $10,000': 'income $1 to $10,000', '$10,000 to $19,999': 'income $10,000 to $19,999', '$100,000 to $124,999': 'income $100,000 to $124,999',\n",
        "       '$125,000 to $149,999': 'income $125,000 to $149,999', '$150,000 to $174,999': 'income $150,000 to $174,999', '$174,999 to $199,999': 'income $174,999 to $199,999',\n",
        "       '$20,000 to $29,999': 'income $20,000 to $29,999', '$200,000 or more': 'income $200,000 or more', '$30,000 to $39,999': 'income $30,000 to $39,999',\n",
        "       '$40,000 to $49,999': 'income $40,000 to $49,999', '$50,000 to $74,999': 'income $50,000 to $74,999', '$75,000 to $99,999': 'income $75,000 to $99,999'})\n",
        "data_suicide.head()"
      ],
      "execution_count": null,
      "outputs": []
    },
    {
      "cell_type": "markdown",
      "metadata": {
        "id": "sO5L9lYcmq44"
      },
      "source": [
        "La colonne \"race\" contenait de nombreuses valeurs différentes et parfois incohérentes. Il a fallu en regrouper plusieurs en une seule puis les convertir en colonnes par la suite."
      ]
    },
    {
      "cell_type": "code",
      "metadata": {
        "collapsed": true,
        "id": "etAb7dh0HsvJ"
      },
      "source": [
        "data_suicide['race'].value_counts()\n",
        "data_suicide['race'] = data_suicide['race'].replace({'half Arab':'Arab','North African':'Arab', \n",
        "                                                 'White and Native American':'White non-Hispanic', 'Native american':'White non-Hispanic',\n",
        "                                                 'European':'White non-Hispanic','caucasian':'White non-Hispanic',\n",
        "                                                 'Turkish':'Asian','Indian':'Asian','Middle Eastern':'Asian','Pakistani':'Asian', 'indian':'Asian',\n",
        "                                                  'Mixed race':'Mixed','mixed':'Mixed','Multi':'Mixed','Mixed white/asian':'Mixed', 'Half Asian half white':'Mixed','Native American mix':'Mixed','white and asian':'Mixed'\n",
        "                                                })\n",
        "data_suicide['race'].value_counts()\n",
        "\n",
        "B = pd.get_dummies(data_suicide['race'])\n",
        "data_suicide = data_suicide.drop('race', axis=1)\n",
        "data_suicide = pd.concat([data_suicide, B], axis=1)\n",
        "data_suicide.head()\n"
      ],
      "execution_count": null,
      "outputs": []
    },
    {
      "cell_type": "markdown",
      "metadata": {
        "id": "2iSNX-Nbmvm4"
      },
      "source": [
        "La même séparation en plusieurs colonnes pour \"bodyweight\"."
      ]
    },
    {
      "cell_type": "code",
      "metadata": {
        "collapsed": true,
        "id": "eijcIgZ_wM1W"
      },
      "source": [
        "data_suicide['bodyweight'].value_counts()\n",
        "\n",
        "C = pd.get_dummies(data_suicide['bodyweight'])\n",
        "data_suicide = data_suicide.drop('bodyweight', axis=1)\n",
        "data_suicide = pd.concat([data_suicide, C], axis=1)\n",
        "data_suicide.head()\n"
      ],
      "execution_count": null,
      "outputs": []
    },
    {
      "cell_type": "markdown",
      "metadata": {
        "id": "qdjJ2Flbmx88"
      },
      "source": [
        "On convertit les \"Yes\" et \"No\" de \"virgin\" en 0 et 1."
      ]
    },
    {
      "cell_type": "code",
      "metadata": {
        "collapsed": true,
        "id": "Ko_srNfZ1c6z"
      },
      "source": [
        "data_suicide['virgin'] = data_suicide['virgin'].replace({'Yes':1,'No':0})\n",
        "data_suicide.head()\n"
      ],
      "execution_count": null,
      "outputs": []
    },
    {
      "cell_type": "markdown",
      "metadata": {
        "id": "Vgt7lP9om2Tf"
      },
      "source": [
        "On nettoie la colonne \"friends\" en remplaçant les valeurs supérieures à 40 (qui nous paraissent aberrantes) par la valeur 40."
      ]
    },
    {
      "cell_type": "code",
      "metadata": {
        "collapsed": true,
        "id": "AqiHqlCQ3Q0G"
      },
      "source": [
        "data_suicide['friends'].values[data_suicide['friends'] > 40] = 40\n",
        "data_suicide['friends'] = data_suicide['friends'].astype(int)\n",
        "data_suicide.head()"
      ],
      "execution_count": null,
      "outputs": []
    },
    {
      "cell_type": "markdown",
      "metadata": {
        "id": "dKdPbsW0m9U4"
      },
      "source": [
        "On transforme de la colonne \"social fear\" en 0 et en 1."
      ]
    },
    {
      "cell_type": "code",
      "metadata": {
        "collapsed": true,
        "id": "x2pAiurf4Beg"
      },
      "source": [
        "data_suicide['social_fear'] = data_suicide['social_fear'].map({'Yes':1,'No':0})\n",
        "data_suicide.head()"
      ],
      "execution_count": null,
      "outputs": []
    },
    {
      "cell_type": "markdown",
      "metadata": {
        "id": "MHEbgUtWnC0q"
      },
      "source": [
        "On transforme de la colonne \"depressed\" en 0 et en 1."
      ]
    },
    {
      "cell_type": "code",
      "metadata": {
        "collapsed": true,
        "id": "YGiB3Tq4HtCu"
      },
      "source": [
        "data_suicide['depressed'] = data_suicide['depressed'].map({'Yes':1,'No':0})\n",
        "data_suicide.head()"
      ],
      "execution_count": null,
      "outputs": []
    },
    {
      "cell_type": "markdown",
      "metadata": {
        "id": "7v_34DrrnFS3"
      },
      "source": [
        "La colonne \"what_help_from_others\" est difficile à traiter, mais il nous a paru pertinent de séparer les valeurs en deux colonnes : besoin d'aide et le cas contraire."
      ]
    },
    {
      "cell_type": "code",
      "metadata": {
        "collapsed": true,
        "id": "lAk8hrqIHtFo"
      },
      "source": [
        "data_suicide['what_help_from_others'] = data_suicide['what_help_from_others'].apply(lambda x: 0 if x == 'I don\\'t want help' else 1)\n",
        "data_suicide.head()"
      ],
      "execution_count": null,
      "outputs": []
    },
    {
      "cell_type": "markdown",
      "metadata": {
        "id": "5swWVzLknHMS"
      },
      "source": [
        "Transformation de la colonne \"attempt_suicide\" en 0 et en 1."
      ]
    },
    {
      "cell_type": "code",
      "metadata": {
        "collapsed": true,
        "id": "9Ha2b15x6KNl"
      },
      "source": [
        "data_suicide['attempt_suicide'] = data_suicide['attempt_suicide'].map({'Yes':1, 'No':0})\n",
        "data_suicide.head()"
      ],
      "execution_count": null,
      "outputs": []
    },
    {
      "cell_type": "markdown",
      "metadata": {
        "id": "IcWdMRHKnJKD"
      },
      "source": [
        "On créer trois colonnes correspondant à \"student\", \"employed\" ou \"not employed\" à la place de la colonne \"employment\"."
      ]
    },
    {
      "cell_type": "code",
      "metadata": {
        "collapsed": true,
        "id": "T_8BpXwZ6MZv"
      },
      "source": [
        "def parse_values(x):\n",
        "    if x == 'A student':\n",
        "       return 'Student'\n",
        "    elif x == 'Self-employed' or x == 'Military' or x == 'Employed for wages':\n",
        "       return 'Employed'\n",
        "    else:\n",
        "       return 'Not employed'\n",
        "\n",
        "data_suicide['employment'] = data_suicide['employment'].apply(parse_values)\n",
        "\n",
        "D = pd.get_dummies(data_suicide['employment'])\n",
        "data_suicide = data_suicide.drop('employment', axis=1)\n",
        "data_suicide = pd.concat([data_suicide, D], axis=1)\n",
        "data_suicide.head()"
      ],
      "execution_count": null,
      "outputs": []
    },
    {
      "cell_type": "markdown",
      "metadata": {
        "id": "CBTDnwW5nKqu"
      },
      "source": [
        "On créer une colonne pour chaque réponse possible dans \"edu_level\"."
      ]
    },
    {
      "cell_type": "code",
      "metadata": {
        "collapsed": true,
        "id": "vfVkAoO76N5R"
      },
      "source": [
        "data_suicide['edu_level'].value_counts()\n",
        "\n",
        "E = pd.get_dummies(data_suicide['edu_level'])\n",
        "data_suicide = data_suicide.drop('edu_level', axis=1)\n",
        "data_suicide = pd.concat([data_suicide, E], axis=1)\n",
        "data_suicide.head()"
      ],
      "execution_count": null,
      "outputs": []
    },
    {
      "cell_type": "markdown",
      "metadata": {
        "id": "r-Z42svPnPhw"
      },
      "source": [
        "On sépare la colonne \"improve_yourself_how\" en trois : \"None\", \"go to the gym\", et \"other exercise\"."
      ]
    },
    {
      "cell_type": "code",
      "metadata": {
        "collapsed": true,
        "id": "kQgClf2c6PdE"
      },
      "source": [
        "data_suicide['improve_yourself_how'].value_counts()\n",
        "\n",
        "def parse_values_improve_yourself_how(x):\n",
        "    if x == 'None':\n",
        "       return 'None'\n",
        "    elif 'Joined a gym/go to the gym' in x:\n",
        "       return 'go to the gym'\n",
        "    else:\n",
        "       return 'Other exercise'\n",
        "\n",
        "data_suicide['improve_yourself_how'] = data_suicide['improve_yourself_how'].apply(parse_values_improve_yourself_how)\n",
        "\n",
        "F = pd.get_dummies(data_suicide['improve_yourself_how'])\n",
        "data_suicide = data_suicide.drop('improve_yourself_how', axis=1)\n",
        "data_suicide = pd.concat([data_suicide, F], axis=1)\n",
        "data_suicide.head()"
      ],
      "execution_count": null,
      "outputs": []
    },
    {
      "cell_type": "markdown",
      "metadata": {
        "id": "3YukPnzenR66"
      },
      "source": [
        "Voici un aperçu final de notre dataset après nettoyage des données"
      ]
    },
    {
      "cell_type": "code",
      "metadata": {
        "id": "GazUslHp80ay"
      },
      "source": [
        "data_suicide.head()"
      ],
      "execution_count": null,
      "outputs": []
    },
    {
      "cell_type": "markdown",
      "metadata": {
        "id": "kREKvJIInT37"
      },
      "source": [
        "Toutes nos colonnes sont soit des entiers ou des floats."
      ]
    },
    {
      "cell_type": "code",
      "metadata": {
        "id": "WDKuG0VgCYR6"
      },
      "source": [
        "data_suicide.dtypes"
      ],
      "execution_count": null,
      "outputs": []
    },
    {
      "cell_type": "markdown",
      "metadata": {
        "id": "8J6gpEtqnYO_"
      },
      "source": [
        "Des informations sur le dataset final"
      ]
    },
    {
      "cell_type": "code",
      "metadata": {
        "id": "04-s1YV5edLy"
      },
      "source": [
        "print ('Notre dataset a {0} lignes et {1} colonnes'.format(data_suicide.shape[0],data_suicide.shape[1]))"
      ],
      "execution_count": null,
      "outputs": []
    },
    {
      "cell_type": "code",
      "metadata": {
        "collapsed": true,
        "id": "1TgcVV8oefcx"
      },
      "source": [
        "data_suicide.info()"
      ],
      "execution_count": null,
      "outputs": []
    },
    {
      "cell_type": "code",
      "metadata": {
        "collapsed": true,
        "id": "xWlAlDvceffj"
      },
      "source": [
        "data_suicide.describe()"
      ],
      "execution_count": null,
      "outputs": []
    },
    {
      "cell_type": "code",
      "metadata": {
        "collapsed": true,
        "id": "CPakJ5b5efjh"
      },
      "source": [
        "import seaborn as sns\n",
        "sns.distplot(data_suicide['attempt_suicide'])\n"
      ],
      "execution_count": null,
      "outputs": []
    },
    {
      "cell_type": "markdown",
      "metadata": {
        "id": "cdNY-ShZna8f"
      },
      "source": [
        "On crée la matrice de corrélation de notre dataset, en ne regardant évidemment que la colonne \"attempt_suicide\" "
      ]
    },
    {
      "cell_type": "code",
      "metadata": {
        "id": "BnB56hHgefnN"
      },
      "source": [
        "data_suicide = data_suicide.rename(columns={\"High school graduate, diploma or the equivalent (for example: GED)\": \"High school graduate, diploma or the equivalent\"})\n",
        "corr = data_suicide.corr()\n",
        "corr.style.background_gradient(cmap='coolwarm')\n",
        "import seaborn as sn\n",
        "fig, ax = plt.subplots(figsize=(5,10))\n",
        "sn.heatmap(corr[['attempt_suicide']], annot=True, ax=ax)"
      ],
      "execution_count": null,
      "outputs": []
    },
    {
      "cell_type": "markdown",
      "metadata": {
        "id": "2-CioUVSnevp"
      },
      "source": [
        "On trie les valeurs de la matrice de corrélation dans l'odre décroissant\n",
        "Le premier critère qui ressort de ce tri est la dépression. Ce résultat était évidemment le plus attendu et l'étude des corrélations entre les colonnes le confirment.\n",
        "En regardant tout en bas de la liste, on remarque que \"sexuallity\" et \"gender\" sont les moins corrélés aux tentatives de suicide.\n",
        "Ces critères correspondent respectivement au fait d'être hétérosexuel et d'être un homme.\n",
        "Cela signifie que ne pas être hétérosexuel et être une femme sont les deux caractéristiques les plus corrélées aux tentatives de suicide après la dépression."
      ]
    },
    {
      "cell_type": "code",
      "metadata": {
        "id": "2X2E6svfefqf"
      },
      "source": [
        "print (corr['attempt_suicide'].sort_values(ascending=False), '\\n')"
      ],
      "execution_count": null,
      "outputs": []
    },
    {
      "cell_type": "markdown",
      "metadata": {
        "id": "WSUFgQ4wUPSK"
      },
      "source": [
        "Notre problème va être résolu de manière automatique avec des algorithmes spécifiques et ne pourrait être résolu par le développement d'un logiciel classique. Il s'agit bien d'un problème de Machine Learning.\n",
        "On peut même dire qu'il s'agit ici d'un problème de Machine Learning Supervisé étant donné que nous dispons d'un jeu de données labellisées."
      ]
    },
    {
      "cell_type": "markdown",
      "metadata": {
        "id": "MEKXsC7nnpKy"
      },
      "source": [
        "On sépare notre dataset entre les features utilisées pour la prédiction et la colonne attempt_suicide qui comporte l'élément à prédire."
      ]
    },
    {
      "cell_type": "code",
      "metadata": {
        "id": "fFfj0LT_lxmb"
      },
      "source": [
        "features_columns = data_suicide.columns\n",
        "features_columns = features_columns.drop('attempt_suicide')\n",
        "features = data_suicide[features_columns]\n",
        "target_column = 'attempt_suicide'\n",
        "target = data_suicide[target_column]"
      ],
      "execution_count": null,
      "outputs": []
    },
    {
      "cell_type": "markdown",
      "metadata": {
        "id": "dN3BqWrRnzKQ"
      },
      "source": [
        "On affiche du nombre d'occurences des individus ayant ou pas tenté de se suicider selon chaque feature"
      ]
    },
    {
      "cell_type": "code",
      "metadata": {
        "collapsed": true,
        "id": "-E-4DXiFLjOm"
      },
      "source": [
        "from IPython.display import display \n",
        "for i in range(features_columns.shape[0]) :\n",
        "  mat = pd.DataFrame(data_suicide.groupby([features_columns[i],target_column]).size())\n",
        "  pd.DataFrame(data_suicide.groupby([features_columns[i],target_column]).size())\n",
        "  mat = mat.rename(columns={0:'nombre d\\'occurences'})\n",
        "  display(mat)"
      ],
      "execution_count": null,
      "outputs": []
    },
    {
      "cell_type": "markdown",
      "metadata": {
        "id": "sgygWPjd79LS"
      },
      "source": [
        "**Analyse en composantes principales**"
      ]
    },
    {
      "cell_type": "markdown",
      "metadata": {
        "id": "eteZA1lI-C-j"
      },
      "source": [
        "On applique PCA qui afin de transformer des variables liées entre elles dites « corrélées » en nouvelles variables décorrélées les unes des autres. Ces nouvelles variables sont nommées « composantes principales », ou axes principaux. Ça nous permet de réduire le nombre de variables et de rendre l'information moins redondante en visualisant nos données."
      ]
    },
    {
      "cell_type": "code",
      "metadata": {
        "id": "lVBJuJCckD-9"
      },
      "source": [
        "from sklearn.preprocessing import StandardScaler\n",
        "\n",
        "# Séparation des features\n",
        "column_names = data_suicide.columns\n",
        "column_names = column_names.drop('attempt_suicide')\n",
        "x = data_suicide.loc[:, column_names].values\n",
        "# Séparation du but\n",
        "y = data_suicide.loc[:, 'attempt_suicide'].values\n",
        "# Standarisation des features\n",
        "x = StandardScaler().fit_transform(x)"
      ],
      "execution_count": null,
      "outputs": []
    },
    {
      "cell_type": "markdown",
      "metadata": {
        "id": "xDpywm389zkk"
      },
      "source": [
        "**La projection en 2D PCA**"
      ]
    },
    {
      "cell_type": "code",
      "metadata": {
        "id": "9zXP6tYIoN0Z"
      },
      "source": [
        "from sklearn.decomposition import PCA\n",
        "pca = PCA(n_components=2)\n",
        "principalComponents = pca.fit_transform(x)\n",
        "principalDf = pd.DataFrame(data = principalComponents\n",
        "             , columns = ['principal component 1', 'principal component 2'])\n",
        "finalDf = pd.concat([principalDf, data_suicide[['attempt_suicide']]], axis = 1)"
      ],
      "execution_count": null,
      "outputs": []
    },
    {
      "cell_type": "markdown",
      "metadata": {
        "id": "A6XqSmNC-mPs"
      },
      "source": [
        "**La visualisation de la projection 2D**"
      ]
    },
    {
      "cell_type": "code",
      "metadata": {
        "collapsed": true,
        "id": "KZeWmZzIopQ5"
      },
      "source": [
        "fig = plt.figure(figsize = (8,8))\n",
        "ax = fig.add_subplot(1,1,1) \n",
        "ax.set_xlabel('Principal Component 1', fontsize = 15)\n",
        "ax.set_ylabel('Principal Component 2', fontsize = 15)\n",
        "ax.set_title('2 component PCA', fontsize = 20)\n",
        "targets = [1, 0]\n",
        "colors = ['r', 'g', 'b']\n",
        "for target, color in zip(targets,colors):\n",
        "    indicesToKeep = finalDf['attempt_suicide'] == target\n",
        "    ax.scatter(finalDf.loc[indicesToKeep, 'principal component 1']\n",
        "               , finalDf.loc[indicesToKeep, 'principal component 2']\n",
        "               , c = color\n",
        "               , s = 50)\n",
        "ax.legend(targets)\n",
        "ax.grid()"
      ],
      "execution_count": null,
      "outputs": []
    },
    {
      "cell_type": "markdown",
      "metadata": {
        "id": "F86kTzTMvioV"
      },
      "source": [
        "# **Définition du problème en tant qu'un problème de Machine Learning**"
      ]
    },
    {
      "cell_type": "markdown",
      "metadata": {
        "id": "1uZmByUFvwGO"
      },
      "source": [
        "Puisque notre problème peut être résolu de manière automatique avec des algorithmes spécifiques en se basant sur l’analyse d’un jeu de données alors on peut dire que on est amené à faire du Machine Learning. N’oublions pas que le développement d’un logiciel réalisant cette même tâche est assez complexe voire impossible. \n",
        "De manière assez spécifique, notre problème est un problème d’apprentissage automatique dit “supervisé” étant donné qu’on dispose d’un jeu de données labellisées, et on est face à un problème de classification binaire puisque on possèdera des valeurs discrètes en sortie de notre prédicteur."
      ]
    },
    {
      "cell_type": "markdown",
      "metadata": {
        "id": "CWCrAQ1yzCuk"
      },
      "source": [
        "On importe des modules utilisés pour la classification"
      ]
    },
    {
      "cell_type": "code",
      "metadata": {
        "id": "LKNRtbp1LjSn"
      },
      "source": [
        "from sklearn.linear_model import LogisticRegression\n",
        "from sklearn.linear_model import Perceptron\n",
        "from sklearn.svm import SVC\n",
        "from sklearn.neighbors import KNeighborsClassifier\n",
        "from sklearn.tree import DecisionTreeClassifier\n",
        "from sklearn.neural_network import MLPClassifier\n",
        "from sklearn.ensemble import GradientBoostingClassifier\n",
        "from sklearn.ensemble import RandomForestClassifier\n",
        "from sklearn.naive_bayes import GaussianNB\n",
        "from sklearn import tree\n",
        "from sklearn.discriminant_analysis import LinearDiscriminantAnalysis\n",
        "import matplotlib\n",
        "from sklearn.model_selection import train_test_split\n",
        "from sklearn import svm\n",
        "from sklearn.model_selection import GridSearchCV\n",
        "from sklearn import model_selection\n",
        "from sklearn.metrics import classification_report, confusion_matrix, accuracy_score\n",
        "from sklearn import metrics\n",
        "import seaborn as sns "
      ],
      "execution_count": null,
      "outputs": []
    },
    {
      "cell_type": "markdown",
      "metadata": {
        "id": "21deHdvOzINZ"
      },
      "source": [
        "On répartit nos features et targets pour préparer nos données d'entrainement"
      ]
    },
    {
      "cell_type": "code",
      "metadata": {
        "id": "6fgLIYKPl9k_"
      },
      "source": [
        "features_columns = data_suicide.columns\n",
        "features_columns = features_columns.drop('attempt_suicide')\n",
        "features = data_suicide[features_columns]\n",
        "target_column = 'attempt_suicide'\n",
        "target = data_suicide[target_column]"
      ],
      "execution_count": null,
      "outputs": []
    },
    {
      "cell_type": "markdown",
      "metadata": {
        "id": "yAUnuqM9zT6a"
      },
      "source": [
        "On crée les jeux d'entrainement et de test"
      ]
    },
    {
      "cell_type": "code",
      "metadata": {
        "id": "1qa9bzQltkzv"
      },
      "source": [
        "X_train, X_test, y_train, y_test = train_test_split(features, target, test_size=0.33)\n",
        "print(\"train set shape : \", X_train.shape)\n",
        "print(\"test set shape : \",y_train.shape)"
      ],
      "execution_count": null,
      "outputs": []
    },
    {
      "cell_type": "markdown",
      "metadata": {
        "id": "H0u7xLxNw1fN"
      },
      "source": [
        "Nous allons tester plusieurs modèles qui tenteront chacun de résoudre ce problème de Machine Learning. Pour chaque modèle, nous évaluons le score pour déterminer lesquels semblent être à première vue les plus intéressants. Les trois modèle ayant reçu les meilleurs résultats ont de plus fait l'objet d'une étude plus approfondie pour déterminer le prédicteur à utiliser."
      ]
    },
    {
      "cell_type": "markdown",
      "metadata": {
        "id": "WkiBXEJ1yetY"
      },
      "source": [
        "**Le modèle de la Regression Linéaire**"
      ]
    },
    {
      "cell_type": "markdown",
      "metadata": {
        "id": "BnlOd1f73Xt7"
      },
      "source": [
        "Les modèles de Logistic Regression Model, Linear Discriminant Analysis et KNeighbors présentent toutes des résulats similaires, satisfaisants sans être exceptionnels. Les test set scores est assez proche des training set scores."
      ]
    },
    {
      "cell_type": "code",
      "metadata": {
        "id": "MiYQBrPcIY2M"
      },
      "source": [
        "clf_lr = LogisticRegression(solver='lbfgs')\n",
        "clf_lr.fit(X_train, y_train) \n",
        "#print(\"intercept: {}\".format(clf_lr.intercept_))\n",
        "#print(\"weights:   {}\".format(clf_lr.coef_))\n",
        "\n",
        "train_score = clf_lr.score(X_train,y_train)\n",
        "test_score = clf_lr.score(X_test,y_test)\n",
        "\n",
        "print(\"Training set score: {:.2f} \".format(train_score))\n",
        "print(\"Test set score: {:.2f} \".format(test_score))\n"
      ],
      "execution_count": null,
      "outputs": []
    },
    {
      "cell_type": "code",
      "metadata": {
        "id": "FEwCyT-MpWQz"
      },
      "source": [
        "from sklearn.preprocessing import StandardScaler\n",
        "\n",
        "# Séparation des features\n",
        "column_names = data_suicide.columns\n",
        "column_names = column_names.drop('attempt_suicide')\n",
        "x = data_suicide.loc[:, column_names].values\n",
        "# Séparation du but\n",
        "y = data_suicide.loc[:, 'attempt_suicide'].values\n",
        "# Standarisation des features\n",
        "x = StandardScaler().fit_transform(x)"
      ],
      "execution_count": null,
      "outputs": []
    },
    {
      "cell_type": "markdown",
      "metadata": {
        "id": "rSfeAB3M2yIo"
      },
      "source": [
        "**Le modèle Analyse Discriminante Linéaire**"
      ]
    },
    {
      "cell_type": "markdown",
      "metadata": {
        "id": "yl-1s50t4G7N"
      },
      "source": [
        "Le LDA Classifier n'a pas été aussi performant. Son training set score est très élevé mais les résultats sont beaucoup moins bons par rapport aux autres modèles."
      ]
    },
    {
      "cell_type": "code",
      "metadata": {
        "id": "B_msdrkXEq5o"
      },
      "source": [
        "lda = LinearDiscriminantAnalysis()\n",
        "lda.fit(X_train, y_train)\n",
        "print(\"Training set score: {:.2f} \".format(round(lda.score(X_train,y_train), 4)))\n",
        "print(\"Test set score: {:.2f} \".format(round(lda.score(X_test,y_test), 4)))"
      ],
      "execution_count": null,
      "outputs": []
    },
    {
      "cell_type": "markdown",
      "metadata": {
        "id": "lC3KZX7d2jUi"
      },
      "source": [
        "**Le modèle KNeighbors**"
      ]
    },
    {
      "cell_type": "markdown",
      "metadata": {
        "id": "82NWIzQI3OeO"
      },
      "source": [
        "Le KNeigbors Classifier n'a pas été aussi performant également. Les résultats sur le test set ne sont pas les meilleurs à obtenir."
      ]
    },
    {
      "cell_type": "code",
      "metadata": {
        "id": "EnNh_ZMLEwLq"
      },
      "source": [
        "neigh = KNeighborsClassifier(n_neighbors=7)\n",
        "neigh.fit(X_train, y_train)\n",
        "print(\"Training set score: {:.2f} \".format(round(neigh.score(X_train,y_train), 4)))\n",
        "print(\"Test set score: {:.2f} \".format(round(neigh.score(X_test,y_test), 4)))"
      ],
      "execution_count": null,
      "outputs": []
    },
    {
      "cell_type": "markdown",
      "metadata": {
        "id": "WynaVGNV2eQs"
      },
      "source": [
        "**Le modèle Decision Tree**"
      ]
    },
    {
      "cell_type": "markdown",
      "metadata": {
        "id": "IPk0J7Nu3LT1"
      },
      "source": [
        "Le Decision Tree Classifier n'a pas été aussi performant. Son training set score est très élevé mais les résultats sont beaucoup moins bons sur le test set."
      ]
    },
    {
      "cell_type": "code",
      "metadata": {
        "id": "cH6WiymA9DRi"
      },
      "source": [
        "my_tree = tree.DecisionTreeClassifier()\n",
        "my_tree.fit(X_train, y_train)\n",
        "\n",
        "train_score = my_tree.score(X_train,y_train)\n",
        "test_score = my_tree.score(X_test,y_test)\n",
        "\n",
        "print(\"Training set score: {:.2f} \".format(train_score))\n",
        "print(\"Test set score: {:.2f} \".format(test_score))"
      ],
      "execution_count": null,
      "outputs": []
    },
    {
      "cell_type": "markdown",
      "metadata": {
        "id": "EBo1VV752YjY"
      },
      "source": [
        "**Le modèle GaussianNB**"
      ]
    },
    {
      "cell_type": "markdown",
      "metadata": {
        "id": "Kj8FQmVg3I_v"
      },
      "source": [
        "Le Bayesien naïf a été le seul modèle réellement mauvais parmis ceux que nous avons testés. Ces résultats sont de 0.25 pour les deux sets."
      ]
    },
    {
      "cell_type": "code",
      "metadata": {
        "id": "MQSKuZVFSDeF"
      },
      "source": [
        "gaussian = GaussianNB()\n",
        "gaussian.fit(X_train, y_train)\n",
        "\n",
        "train_score = gaussian.score(X_train,y_train)\n",
        "test_score = gaussian.score(X_test,y_test)\n",
        "\n",
        "print(\"Training set score: {:.2f} \".format(train_score))\n",
        "print(\"Test set score: {:.2f} \".format(test_score))"
      ],
      "execution_count": null,
      "outputs": []
    },
    {
      "cell_type": "markdown",
      "metadata": {
        "id": "mDyMLtT62GKd"
      },
      "source": [
        "**Le modèle SVC**"
      ]
    },
    {
      "cell_type": "markdown",
      "metadata": {
        "id": "48wBAXl42Jvw"
      },
      "source": [
        "Pour le modèle SVC qui nous a paru intéressant à étudier de plus près, nous avons testé différents hyper paramètres pour déterminer un prédicteur optimal avec cette méthode. Ici les résultats sont identiques avec \"precision\" et \"recall\". On obtient au mieux un test set score de 0,82."
      ]
    },
    {
      "cell_type": "code",
      "metadata": {
        "colab": {
          "background_save": true,
          "base_uri": "https://localhost:8080/"
        },
        "id": "xk7SV7QHDDqt",
        "outputId": "0285e103-3393-40fe-eb93-e0a24aeaebd7"
      },
      "source": [
        "svc = svm.SVC(kernel='linear', C=1)\n",
        "svc.fit(X_train, y_train)\n",
        "\n",
        "tuned_parameters = [{'kernel': ['rbf'], 'gamma': [1e-3, 1e-4],\n",
        "                     'C': [1, 10, 100, 1000]},\n",
        "                    {'kernel': ['linear'], 'C': [1, 10, 100, 1000]}]\n",
        "\n",
        "scores = ['precision', 'recall']\n",
        "\n",
        "for score in scores:\n",
        "    print(\"# Réglage des hyper-parameters pour %s\" % score)\n",
        "    print()\n",
        "\n",
        "    clf = GridSearchCV(\n",
        "        SVC(), tuned_parameters, scoring='%s_macro' % score\n",
        "    )\n",
        "    clf.fit(X_train, y_train)\n",
        "\n",
        "    print(\"Les meilleurs paramètres trouvés : \")\n",
        "    print()\n",
        "    print(clf.best_params_)\n",
        "    print()\n",
        "    print(\"Scores du grid :\")\n",
        "    print()\n",
        "    means = clf.cv_results_['mean_test_score']\n",
        "    stds = clf.cv_results_['std_test_score']\n",
        "    for mean, std, params in zip(means, stds, clf.cv_results_['params']):\n",
        "        print(\"%0.3f (+/-%0.03f) pour %r\"\n",
        "              % (mean, std * 2, params))\n",
        "    print()\n",
        "\n",
        "    print(\"Rapport détaillé :\")\n",
        "    y_true, y_pred = y_test, clf.predict(X_test)\n",
        "    print(classification_report(y_true, y_pred))\n",
        "    print()\n",
        "\n",
        "print(\"Test set score: {:.2f} \".format(round(svc.score(X_test,y_test), 4)))\n",
        "print(\"Training set score: {:.2f} \".format(round(svc.score(X_train,y_train), 4)))"
      ],
      "execution_count": null,
      "outputs": [
        {
          "output_type": "stream",
          "text": [
            "# Réglage des hyper-parameters pour precision\n",
            "\n"
          ],
          "name": "stdout"
        },
        {
          "output_type": "stream",
          "text": [
            "/usr/local/lib/python3.7/dist-packages/sklearn/metrics/_classification.py:1272: UndefinedMetricWarning: Precision is ill-defined and being set to 0.0 in labels with no predicted samples. Use `zero_division` parameter to control this behavior.\n",
            "  _warn_prf(average, modifier, msg_start, len(result))\n",
            "/usr/local/lib/python3.7/dist-packages/sklearn/metrics/_classification.py:1272: UndefinedMetricWarning: Precision is ill-defined and being set to 0.0 in labels with no predicted samples. Use `zero_division` parameter to control this behavior.\n",
            "  _warn_prf(average, modifier, msg_start, len(result))\n",
            "/usr/local/lib/python3.7/dist-packages/sklearn/metrics/_classification.py:1272: UndefinedMetricWarning: Precision is ill-defined and being set to 0.0 in labels with no predicted samples. Use `zero_division` parameter to control this behavior.\n",
            "  _warn_prf(average, modifier, msg_start, len(result))\n",
            "/usr/local/lib/python3.7/dist-packages/sklearn/metrics/_classification.py:1272: UndefinedMetricWarning: Precision is ill-defined and being set to 0.0 in labels with no predicted samples. Use `zero_division` parameter to control this behavior.\n",
            "  _warn_prf(average, modifier, msg_start, len(result))\n",
            "/usr/local/lib/python3.7/dist-packages/sklearn/metrics/_classification.py:1272: UndefinedMetricWarning: Precision is ill-defined and being set to 0.0 in labels with no predicted samples. Use `zero_division` parameter to control this behavior.\n",
            "  _warn_prf(average, modifier, msg_start, len(result))\n",
            "/usr/local/lib/python3.7/dist-packages/sklearn/metrics/_classification.py:1272: UndefinedMetricWarning: Precision is ill-defined and being set to 0.0 in labels with no predicted samples. Use `zero_division` parameter to control this behavior.\n",
            "  _warn_prf(average, modifier, msg_start, len(result))\n",
            "/usr/local/lib/python3.7/dist-packages/sklearn/metrics/_classification.py:1272: UndefinedMetricWarning: Precision is ill-defined and being set to 0.0 in labels with no predicted samples. Use `zero_division` parameter to control this behavior.\n",
            "  _warn_prf(average, modifier, msg_start, len(result))\n",
            "/usr/local/lib/python3.7/dist-packages/sklearn/metrics/_classification.py:1272: UndefinedMetricWarning: Precision is ill-defined and being set to 0.0 in labels with no predicted samples. Use `zero_division` parameter to control this behavior.\n",
            "  _warn_prf(average, modifier, msg_start, len(result))\n",
            "/usr/local/lib/python3.7/dist-packages/sklearn/metrics/_classification.py:1272: UndefinedMetricWarning: Precision is ill-defined and being set to 0.0 in labels with no predicted samples. Use `zero_division` parameter to control this behavior.\n",
            "  _warn_prf(average, modifier, msg_start, len(result))\n",
            "/usr/local/lib/python3.7/dist-packages/sklearn/metrics/_classification.py:1272: UndefinedMetricWarning: Precision is ill-defined and being set to 0.0 in labels with no predicted samples. Use `zero_division` parameter to control this behavior.\n",
            "  _warn_prf(average, modifier, msg_start, len(result))\n",
            "/usr/local/lib/python3.7/dist-packages/sklearn/metrics/_classification.py:1272: UndefinedMetricWarning: Precision is ill-defined and being set to 0.0 in labels with no predicted samples. Use `zero_division` parameter to control this behavior.\n",
            "  _warn_prf(average, modifier, msg_start, len(result))\n",
            "/usr/local/lib/python3.7/dist-packages/sklearn/metrics/_classification.py:1272: UndefinedMetricWarning: Precision is ill-defined and being set to 0.0 in labels with no predicted samples. Use `zero_division` parameter to control this behavior.\n",
            "  _warn_prf(average, modifier, msg_start, len(result))\n",
            "/usr/local/lib/python3.7/dist-packages/sklearn/metrics/_classification.py:1272: UndefinedMetricWarning: Precision is ill-defined and being set to 0.0 in labels with no predicted samples. Use `zero_division` parameter to control this behavior.\n",
            "  _warn_prf(average, modifier, msg_start, len(result))\n",
            "/usr/local/lib/python3.7/dist-packages/sklearn/metrics/_classification.py:1272: UndefinedMetricWarning: Precision is ill-defined and being set to 0.0 in labels with no predicted samples. Use `zero_division` parameter to control this behavior.\n",
            "  _warn_prf(average, modifier, msg_start, len(result))\n",
            "/usr/local/lib/python3.7/dist-packages/sklearn/metrics/_classification.py:1272: UndefinedMetricWarning: Precision is ill-defined and being set to 0.0 in labels with no predicted samples. Use `zero_division` parameter to control this behavior.\n",
            "  _warn_prf(average, modifier, msg_start, len(result))\n",
            "/usr/local/lib/python3.7/dist-packages/sklearn/metrics/_classification.py:1272: UndefinedMetricWarning: Precision is ill-defined and being set to 0.0 in labels with no predicted samples. Use `zero_division` parameter to control this behavior.\n",
            "  _warn_prf(average, modifier, msg_start, len(result))\n",
            "/usr/local/lib/python3.7/dist-packages/sklearn/metrics/_classification.py:1272: UndefinedMetricWarning: Precision is ill-defined and being set to 0.0 in labels with no predicted samples. Use `zero_division` parameter to control this behavior.\n",
            "  _warn_prf(average, modifier, msg_start, len(result))\n",
            "/usr/local/lib/python3.7/dist-packages/sklearn/metrics/_classification.py:1272: UndefinedMetricWarning: Precision is ill-defined and being set to 0.0 in labels with no predicted samples. Use `zero_division` parameter to control this behavior.\n",
            "  _warn_prf(average, modifier, msg_start, len(result))\n",
            "/usr/local/lib/python3.7/dist-packages/sklearn/metrics/_classification.py:1272: UndefinedMetricWarning: Precision is ill-defined and being set to 0.0 in labels with no predicted samples. Use `zero_division` parameter to control this behavior.\n",
            "  _warn_prf(average, modifier, msg_start, len(result))\n",
            "/usr/local/lib/python3.7/dist-packages/sklearn/metrics/_classification.py:1272: UndefinedMetricWarning: Precision is ill-defined and being set to 0.0 in labels with no predicted samples. Use `zero_division` parameter to control this behavior.\n",
            "  _warn_prf(average, modifier, msg_start, len(result))\n",
            "/usr/local/lib/python3.7/dist-packages/sklearn/metrics/_classification.py:1272: UndefinedMetricWarning: Precision is ill-defined and being set to 0.0 in labels with no predicted samples. Use `zero_division` parameter to control this behavior.\n",
            "  _warn_prf(average, modifier, msg_start, len(result))\n",
            "/usr/local/lib/python3.7/dist-packages/sklearn/metrics/_classification.py:1272: UndefinedMetricWarning: Precision is ill-defined and being set to 0.0 in labels with no predicted samples. Use `zero_division` parameter to control this behavior.\n",
            "  _warn_prf(average, modifier, msg_start, len(result))\n",
            "/usr/local/lib/python3.7/dist-packages/sklearn/metrics/_classification.py:1272: UndefinedMetricWarning: Precision is ill-defined and being set to 0.0 in labels with no predicted samples. Use `zero_division` parameter to control this behavior.\n",
            "  _warn_prf(average, modifier, msg_start, len(result))\n",
            "/usr/local/lib/python3.7/dist-packages/sklearn/metrics/_classification.py:1272: UndefinedMetricWarning: Precision is ill-defined and being set to 0.0 in labels with no predicted samples. Use `zero_division` parameter to control this behavior.\n",
            "  _warn_prf(average, modifier, msg_start, len(result))\n",
            "/usr/local/lib/python3.7/dist-packages/sklearn/metrics/_classification.py:1272: UndefinedMetricWarning: Precision is ill-defined and being set to 0.0 in labels with no predicted samples. Use `zero_division` parameter to control this behavior.\n",
            "  _warn_prf(average, modifier, msg_start, len(result))\n",
            "/usr/local/lib/python3.7/dist-packages/sklearn/metrics/_classification.py:1272: UndefinedMetricWarning: Precision is ill-defined and being set to 0.0 in labels with no predicted samples. Use `zero_division` parameter to control this behavior.\n",
            "  _warn_prf(average, modifier, msg_start, len(result))\n",
            "/usr/local/lib/python3.7/dist-packages/sklearn/metrics/_classification.py:1272: UndefinedMetricWarning: Precision is ill-defined and being set to 0.0 in labels with no predicted samples. Use `zero_division` parameter to control this behavior.\n",
            "  _warn_prf(average, modifier, msg_start, len(result))\n",
            "/usr/local/lib/python3.7/dist-packages/sklearn/metrics/_classification.py:1272: UndefinedMetricWarning: Precision is ill-defined and being set to 0.0 in labels with no predicted samples. Use `zero_division` parameter to control this behavior.\n",
            "  _warn_prf(average, modifier, msg_start, len(result))\n",
            "/usr/local/lib/python3.7/dist-packages/sklearn/metrics/_classification.py:1272: UndefinedMetricWarning: Precision is ill-defined and being set to 0.0 in labels with no predicted samples. Use `zero_division` parameter to control this behavior.\n",
            "  _warn_prf(average, modifier, msg_start, len(result))\n",
            "/usr/local/lib/python3.7/dist-packages/sklearn/metrics/_classification.py:1272: UndefinedMetricWarning: Precision is ill-defined and being set to 0.0 in labels with no predicted samples. Use `zero_division` parameter to control this behavior.\n",
            "  _warn_prf(average, modifier, msg_start, len(result))\n",
            "/usr/local/lib/python3.7/dist-packages/sklearn/metrics/_classification.py:1272: UndefinedMetricWarning: Precision is ill-defined and being set to 0.0 in labels with no predicted samples. Use `zero_division` parameter to control this behavior.\n",
            "  _warn_prf(average, modifier, msg_start, len(result))\n",
            "/usr/local/lib/python3.7/dist-packages/sklearn/metrics/_classification.py:1272: UndefinedMetricWarning: Precision is ill-defined and being set to 0.0 in labels with no predicted samples. Use `zero_division` parameter to control this behavior.\n",
            "  _warn_prf(average, modifier, msg_start, len(result))\n"
          ],
          "name": "stderr"
        }
      ]
    },
    {
      "cell_type": "markdown",
      "metadata": {
        "id": "296Et-EL15rl"
      },
      "source": [
        "**Le modèle RandomForest**"
      ]
    },
    {
      "cell_type": "markdown",
      "metadata": {
        "id": "UR1n8HZ21960"
      },
      "source": [
        "Nous avons également étudié de plus près de modèle de Random Forest. Ici, \"recall\" s'est montré légèrement plus performant. Il nous permet alors d'atteindre un test set score de 0,84."
      ]
    },
    {
      "cell_type": "code",
      "metadata": {
        "colab": {
          "background_save": true,
          "base_uri": "https://localhost:8080/"
        },
        "id": "kKDxQaLyLhIw",
        "outputId": "92bf029d-77a8-4c2c-f11e-09b327f0eb32"
      },
      "source": [
        "rf = RandomForestClassifier(max_depth=10,min_samples_split=2)\n",
        "rf.fit(X_train, y_train)\n",
        "\n",
        "param_grid = {'max_depth': [3, 5, 10],\n",
        "             'min_samples_split': [2, 5, 10]}\n",
        "base_estimator = RandomForestClassifier()\n",
        "\n",
        "scores = ['precision', 'recall']\n",
        "\n",
        "for score in scores:\n",
        "    print(\"# Réglage des hyper-parameters pour %s\" % score)\n",
        "    print()\n",
        "\n",
        "    clf = GridSearchCV(\n",
        "        base_estimator, param_grid, scoring='%s_macro' % score\n",
        "    )\n",
        "    clf.fit(X_train, y_train)\n",
        "\n",
        "    print(\"Les meilleurs paramètres trouvés : \")\n",
        "    print()\n",
        "    print(clf.best_params_)\n",
        "    print()\n",
        "    print(\"Scores du grid :\")\n",
        "    print()\n",
        "    means = clf.cv_results_['mean_test_score']\n",
        "    stds = clf.cv_results_['std_test_score']\n",
        "    for mean, std, params in zip(means, stds, clf.cv_results_['params']):\n",
        "        print(\"%0.3f (+/-%0.03f) pour %r\"\n",
        "              % (mean, std * 2, params))\n",
        "    print()\n",
        "\n",
        "    print(\"Rapport détaillé :\")\n",
        "    y_true, y_pred = y_test, clf.predict(X_test)\n",
        "    print(classification_report(y_true, y_pred))\n",
        "    print()\n",
        "\n",
        "print(\"Test set score: {:.2f} \".format(round(rf.score(X_test,y_test), 4)))\n",
        "print(\"Training set score: {:.2f} \".format(round(rf.score(X_train,y_train), 4)))"
      ],
      "execution_count": null,
      "outputs": [
        {
          "output_type": "stream",
          "text": [
            "# Réglage des hyper-parameters pour precision\n",
            "\n"
          ],
          "name": "stdout"
        },
        {
          "output_type": "stream",
          "text": [
            "/usr/local/lib/python3.7/dist-packages/sklearn/metrics/_classification.py:1272: UndefinedMetricWarning: Precision is ill-defined and being set to 0.0 in labels with no predicted samples. Use `zero_division` parameter to control this behavior.\n",
            "  _warn_prf(average, modifier, msg_start, len(result))\n",
            "/usr/local/lib/python3.7/dist-packages/sklearn/metrics/_classification.py:1272: UndefinedMetricWarning: Precision is ill-defined and being set to 0.0 in labels with no predicted samples. Use `zero_division` parameter to control this behavior.\n",
            "  _warn_prf(average, modifier, msg_start, len(result))\n",
            "/usr/local/lib/python3.7/dist-packages/sklearn/metrics/_classification.py:1272: UndefinedMetricWarning: Precision is ill-defined and being set to 0.0 in labels with no predicted samples. Use `zero_division` parameter to control this behavior.\n",
            "  _warn_prf(average, modifier, msg_start, len(result))\n",
            "/usr/local/lib/python3.7/dist-packages/sklearn/metrics/_classification.py:1272: UndefinedMetricWarning: Precision is ill-defined and being set to 0.0 in labels with no predicted samples. Use `zero_division` parameter to control this behavior.\n",
            "  _warn_prf(average, modifier, msg_start, len(result))\n",
            "/usr/local/lib/python3.7/dist-packages/sklearn/metrics/_classification.py:1272: UndefinedMetricWarning: Precision is ill-defined and being set to 0.0 in labels with no predicted samples. Use `zero_division` parameter to control this behavior.\n",
            "  _warn_prf(average, modifier, msg_start, len(result))\n",
            "/usr/local/lib/python3.7/dist-packages/sklearn/metrics/_classification.py:1272: UndefinedMetricWarning: Precision is ill-defined and being set to 0.0 in labels with no predicted samples. Use `zero_division` parameter to control this behavior.\n",
            "  _warn_prf(average, modifier, msg_start, len(result))\n",
            "/usr/local/lib/python3.7/dist-packages/sklearn/metrics/_classification.py:1272: UndefinedMetricWarning: Precision is ill-defined and being set to 0.0 in labels with no predicted samples. Use `zero_division` parameter to control this behavior.\n",
            "  _warn_prf(average, modifier, msg_start, len(result))\n",
            "/usr/local/lib/python3.7/dist-packages/sklearn/metrics/_classification.py:1272: UndefinedMetricWarning: Precision is ill-defined and being set to 0.0 in labels with no predicted samples. Use `zero_division` parameter to control this behavior.\n",
            "  _warn_prf(average, modifier, msg_start, len(result))\n",
            "/usr/local/lib/python3.7/dist-packages/sklearn/metrics/_classification.py:1272: UndefinedMetricWarning: Precision is ill-defined and being set to 0.0 in labels with no predicted samples. Use `zero_division` parameter to control this behavior.\n",
            "  _warn_prf(average, modifier, msg_start, len(result))\n",
            "/usr/local/lib/python3.7/dist-packages/sklearn/metrics/_classification.py:1272: UndefinedMetricWarning: Precision is ill-defined and being set to 0.0 in labels with no predicted samples. Use `zero_division` parameter to control this behavior.\n",
            "  _warn_prf(average, modifier, msg_start, len(result))\n",
            "/usr/local/lib/python3.7/dist-packages/sklearn/metrics/_classification.py:1272: UndefinedMetricWarning: Precision is ill-defined and being set to 0.0 in labels with no predicted samples. Use `zero_division` parameter to control this behavior.\n",
            "  _warn_prf(average, modifier, msg_start, len(result))\n",
            "/usr/local/lib/python3.7/dist-packages/sklearn/metrics/_classification.py:1272: UndefinedMetricWarning: Precision is ill-defined and being set to 0.0 in labels with no predicted samples. Use `zero_division` parameter to control this behavior.\n",
            "  _warn_prf(average, modifier, msg_start, len(result))\n",
            "/usr/local/lib/python3.7/dist-packages/sklearn/metrics/_classification.py:1272: UndefinedMetricWarning: Precision is ill-defined and being set to 0.0 in labels with no predicted samples. Use `zero_division` parameter to control this behavior.\n",
            "  _warn_prf(average, modifier, msg_start, len(result))\n",
            "/usr/local/lib/python3.7/dist-packages/sklearn/metrics/_classification.py:1272: UndefinedMetricWarning: Precision is ill-defined and being set to 0.0 in labels with no predicted samples. Use `zero_division` parameter to control this behavior.\n",
            "  _warn_prf(average, modifier, msg_start, len(result))\n",
            "/usr/local/lib/python3.7/dist-packages/sklearn/metrics/_classification.py:1272: UndefinedMetricWarning: Precision is ill-defined and being set to 0.0 in labels with no predicted samples. Use `zero_division` parameter to control this behavior.\n",
            "  _warn_prf(average, modifier, msg_start, len(result))\n",
            "/usr/local/lib/python3.7/dist-packages/sklearn/metrics/_classification.py:1272: UndefinedMetricWarning: Precision is ill-defined and being set to 0.0 in labels with no predicted samples. Use `zero_division` parameter to control this behavior.\n",
            "  _warn_prf(average, modifier, msg_start, len(result))\n",
            "/usr/local/lib/python3.7/dist-packages/sklearn/metrics/_classification.py:1272: UndefinedMetricWarning: Precision is ill-defined and being set to 0.0 in labels with no predicted samples. Use `zero_division` parameter to control this behavior.\n",
            "  _warn_prf(average, modifier, msg_start, len(result))\n",
            "/usr/local/lib/python3.7/dist-packages/sklearn/metrics/_classification.py:1272: UndefinedMetricWarning: Precision is ill-defined and being set to 0.0 in labels with no predicted samples. Use `zero_division` parameter to control this behavior.\n",
            "  _warn_prf(average, modifier, msg_start, len(result))\n",
            "/usr/local/lib/python3.7/dist-packages/sklearn/metrics/_classification.py:1272: UndefinedMetricWarning: Precision is ill-defined and being set to 0.0 in labels with no predicted samples. Use `zero_division` parameter to control this behavior.\n",
            "  _warn_prf(average, modifier, msg_start, len(result))\n",
            "/usr/local/lib/python3.7/dist-packages/sklearn/metrics/_classification.py:1272: UndefinedMetricWarning: Precision is ill-defined and being set to 0.0 in labels with no predicted samples. Use `zero_division` parameter to control this behavior.\n",
            "  _warn_prf(average, modifier, msg_start, len(result))\n",
            "/usr/local/lib/python3.7/dist-packages/sklearn/metrics/_classification.py:1272: UndefinedMetricWarning: Precision is ill-defined and being set to 0.0 in labels with no predicted samples. Use `zero_division` parameter to control this behavior.\n",
            "  _warn_prf(average, modifier, msg_start, len(result))\n",
            "/usr/local/lib/python3.7/dist-packages/sklearn/metrics/_classification.py:1272: UndefinedMetricWarning: Precision is ill-defined and being set to 0.0 in labels with no predicted samples. Use `zero_division` parameter to control this behavior.\n",
            "  _warn_prf(average, modifier, msg_start, len(result))\n",
            "/usr/local/lib/python3.7/dist-packages/sklearn/metrics/_classification.py:1272: UndefinedMetricWarning: Precision is ill-defined and being set to 0.0 in labels with no predicted samples. Use `zero_division` parameter to control this behavior.\n",
            "  _warn_prf(average, modifier, msg_start, len(result))\n",
            "/usr/local/lib/python3.7/dist-packages/sklearn/metrics/_classification.py:1272: UndefinedMetricWarning: Precision is ill-defined and being set to 0.0 in labels with no predicted samples. Use `zero_division` parameter to control this behavior.\n",
            "  _warn_prf(average, modifier, msg_start, len(result))\n",
            "/usr/local/lib/python3.7/dist-packages/sklearn/metrics/_classification.py:1272: UndefinedMetricWarning: Precision is ill-defined and being set to 0.0 in labels with no predicted samples. Use `zero_division` parameter to control this behavior.\n",
            "  _warn_prf(average, modifier, msg_start, len(result))\n",
            "/usr/local/lib/python3.7/dist-packages/sklearn/metrics/_classification.py:1272: UndefinedMetricWarning: Precision is ill-defined and being set to 0.0 in labels with no predicted samples. Use `zero_division` parameter to control this behavior.\n",
            "  _warn_prf(average, modifier, msg_start, len(result))\n",
            "/usr/local/lib/python3.7/dist-packages/sklearn/metrics/_classification.py:1272: UndefinedMetricWarning: Precision is ill-defined and being set to 0.0 in labels with no predicted samples. Use `zero_division` parameter to control this behavior.\n",
            "  _warn_prf(average, modifier, msg_start, len(result))\n",
            "/usr/local/lib/python3.7/dist-packages/sklearn/metrics/_classification.py:1272: UndefinedMetricWarning: Precision is ill-defined and being set to 0.0 in labels with no predicted samples. Use `zero_division` parameter to control this behavior.\n",
            "  _warn_prf(average, modifier, msg_start, len(result))\n",
            "/usr/local/lib/python3.7/dist-packages/sklearn/metrics/_classification.py:1272: UndefinedMetricWarning: Precision is ill-defined and being set to 0.0 in labels with no predicted samples. Use `zero_division` parameter to control this behavior.\n",
            "  _warn_prf(average, modifier, msg_start, len(result))\n",
            "/usr/local/lib/python3.7/dist-packages/sklearn/metrics/_classification.py:1272: UndefinedMetricWarning: Precision is ill-defined and being set to 0.0 in labels with no predicted samples. Use `zero_division` parameter to control this behavior.\n",
            "  _warn_prf(average, modifier, msg_start, len(result))\n",
            "/usr/local/lib/python3.7/dist-packages/sklearn/metrics/_classification.py:1272: UndefinedMetricWarning: Precision is ill-defined and being set to 0.0 in labels with no predicted samples. Use `zero_division` parameter to control this behavior.\n",
            "  _warn_prf(average, modifier, msg_start, len(result))\n",
            "/usr/local/lib/python3.7/dist-packages/sklearn/metrics/_classification.py:1272: UndefinedMetricWarning: Precision is ill-defined and being set to 0.0 in labels with no predicted samples. Use `zero_division` parameter to control this behavior.\n",
            "  _warn_prf(average, modifier, msg_start, len(result))\n",
            "/usr/local/lib/python3.7/dist-packages/sklearn/metrics/_classification.py:1272: UndefinedMetricWarning: Precision is ill-defined and being set to 0.0 in labels with no predicted samples. Use `zero_division` parameter to control this behavior.\n",
            "  _warn_prf(average, modifier, msg_start, len(result))\n",
            "/usr/local/lib/python3.7/dist-packages/sklearn/metrics/_classification.py:1272: UndefinedMetricWarning: Precision is ill-defined and being set to 0.0 in labels with no predicted samples. Use `zero_division` parameter to control this behavior.\n",
            "  _warn_prf(average, modifier, msg_start, len(result))\n",
            "/usr/local/lib/python3.7/dist-packages/sklearn/metrics/_classification.py:1272: UndefinedMetricWarning: Precision is ill-defined and being set to 0.0 in labels with no predicted samples. Use `zero_division` parameter to control this behavior.\n",
            "  _warn_prf(average, modifier, msg_start, len(result))\n",
            "/usr/local/lib/python3.7/dist-packages/sklearn/metrics/_classification.py:1272: UndefinedMetricWarning: Precision is ill-defined and being set to 0.0 in labels with no predicted samples. Use `zero_division` parameter to control this behavior.\n",
            "  _warn_prf(average, modifier, msg_start, len(result))\n",
            "/usr/local/lib/python3.7/dist-packages/sklearn/metrics/_classification.py:1272: UndefinedMetricWarning: Precision is ill-defined and being set to 0.0 in labels with no predicted samples. Use `zero_division` parameter to control this behavior.\n",
            "  _warn_prf(average, modifier, msg_start, len(result))\n",
            "/usr/local/lib/python3.7/dist-packages/sklearn/metrics/_classification.py:1272: UndefinedMetricWarning: Precision is ill-defined and being set to 0.0 in labels with no predicted samples. Use `zero_division` parameter to control this behavior.\n",
            "  _warn_prf(average, modifier, msg_start, len(result))\n"
          ],
          "name": "stderr"
        },
        {
          "output_type": "stream",
          "text": [
            "Les meilleurs paramètres trouvés : \n",
            "\n",
            "{'max_depth': 10, 'min_samples_split': 2}\n",
            "\n",
            "Scores du grid :\n",
            "\n",
            "0.407 (+/-0.007) pour {'max_depth': 3, 'min_samples_split': 2}\n",
            "0.407 (+/-0.007) pour {'max_depth': 3, 'min_samples_split': 5}\n",
            "0.407 (+/-0.007) pour {'max_depth': 3, 'min_samples_split': 10}\n",
            "0.407 (+/-0.007) pour {'max_depth': 5, 'min_samples_split': 2}\n",
            "0.407 (+/-0.007) pour {'max_depth': 5, 'min_samples_split': 5}\n",
            "0.407 (+/-0.007) pour {'max_depth': 5, 'min_samples_split': 10}\n",
            "0.559 (+/-0.405) pour {'max_depth': 10, 'min_samples_split': 2}\n",
            "0.508 (+/-0.402) pour {'max_depth': 10, 'min_samples_split': 5}\n",
            "0.508 (+/-0.401) pour {'max_depth': 10, 'min_samples_split': 10}\n",
            "\n",
            "Rapport détaillé :\n",
            "              precision    recall  f1-score   support\n",
            "\n",
            "           0       0.85      0.99      0.91       129\n",
            "           1       0.75      0.12      0.20        26\n",
            "\n",
            "    accuracy                           0.85       155\n",
            "   macro avg       0.80      0.55      0.56       155\n",
            "weighted avg       0.83      0.85      0.79       155\n",
            "\n",
            "\n",
            "# Réglage des hyper-parameters pour recall\n",
            "\n",
            "Les meilleurs paramètres trouvés : \n",
            "\n",
            "{'max_depth': 10, 'min_samples_split': 10}\n",
            "\n",
            "Scores du grid :\n",
            "\n",
            "0.500 (+/-0.000) pour {'max_depth': 3, 'min_samples_split': 2}\n",
            "0.500 (+/-0.000) pour {'max_depth': 3, 'min_samples_split': 5}\n",
            "0.500 (+/-0.000) pour {'max_depth': 3, 'min_samples_split': 10}\n",
            "0.500 (+/-0.000) pour {'max_depth': 5, 'min_samples_split': 2}\n",
            "0.500 (+/-0.000) pour {'max_depth': 5, 'min_samples_split': 5}\n",
            "0.500 (+/-0.000) pour {'max_depth': 5, 'min_samples_split': 10}\n",
            "0.496 (+/-0.010) pour {'max_depth': 10, 'min_samples_split': 2}\n",
            "0.498 (+/-0.008) pour {'max_depth': 10, 'min_samples_split': 5}\n",
            "0.506 (+/-0.036) pour {'max_depth': 10, 'min_samples_split': 10}\n",
            "\n",
            "Rapport détaillé :\n",
            "              precision    recall  f1-score   support\n",
            "\n",
            "           0       0.84      0.99      0.91       129\n",
            "           1       0.50      0.04      0.07        26\n",
            "\n",
            "    accuracy                           0.83       155\n",
            "   macro avg       0.67      0.52      0.49       155\n",
            "weighted avg       0.78      0.83      0.77       155\n",
            "\n",
            "\n",
            "Test set score: 0.85 \n",
            "Training set score: 0.96 \n"
          ],
          "name": "stdout"
        }
      ]
    },
    {
      "cell_type": "markdown",
      "metadata": {
        "id": "Ap2IsVwKx7pD"
      },
      "source": [
        "**Le modèle Perceptron**"
      ]
    },
    {
      "cell_type": "markdown",
      "metadata": {
        "id": "ZrE8Mguh1yzM"
      },
      "source": [
        "Le modèle du Perceptron a montré de nombreuses instabilité avec des résultats très variables. Nous avons donc décidé d'abandonner le modèle."
      ]
    },
    {
      "cell_type": "code",
      "metadata": {
        "colab": {
          "background_save": true
        },
        "id": "iNfXoPsCU5al",
        "outputId": "ebf60c73-f5e6-4338-be34-91e375c0b2b9"
      },
      "source": [
        "p = Perceptron(tol=1e-3, random_state=0)\n",
        "p.fit(X_train, y_train)\n",
        "print(\"Test set score: {:.2f} \".format(round(p.score(X_test,y_test), 4)))\n",
        "print(\"Training set score: {:.2f} \".format(round(p.score(X_train,y_train), 4)))"
      ],
      "execution_count": null,
      "outputs": [
        {
          "output_type": "stream",
          "text": [
            "Test set score: 0.85 \n",
            "Training set score: 0.82 \n"
          ],
          "name": "stdout"
        }
      ]
    },
    {
      "cell_type": "markdown",
      "metadata": {
        "id": "PDM74gpN1hwW"
      },
      "source": [
        "**Le modèle MLP**"
      ]
    },
    {
      "cell_type": "markdown",
      "metadata": {
        "id": "HSkj4ElG1saZ"
      },
      "source": [
        "Nous avons également étudié le MLPClassifier, et cette fois si \"precision\" semblait être plus pertinent. Nous avons même réussi à atteindre un test set score de 0,98, plus élevé que sur le training set."
      ]
    },
    {
      "cell_type": "code",
      "metadata": {
        "colab": {
          "base_uri": "https://localhost:8080/"
        },
        "id": "5iDzKAdifcLS",
        "outputId": "489f0548-6f38-49dc-bd01-6ebe339424b5"
      },
      "source": [
        "mlp = MLPClassifier(alpha=0.05, hidden_layer_sizes=(50, 50, 50), solver='adam')\n",
        "mlp.fit(X_train, y_train)\n",
        "\n",
        "param_grid = {'hidden_layer_sizes': [(50,50,50), (50,100,50), (100,)],\n",
        "    'solver': ['sgd', 'adam'],\n",
        "    'alpha': [0.0001, 0.05],}\n",
        "base_estimator = MLPClassifier()\n",
        "\n",
        "scores = ['precision', 'recall']\n",
        "\n",
        "for score in scores:\n",
        "    print(\"# Réglage des hyper-parameters pour %s\" % score)\n",
        "    print()\n",
        "\n",
        "    clf = GridSearchCV(\n",
        "        base_estimator, param_grid, scoring='%s_macro' % score\n",
        "    )\n",
        "    clf.fit(X_train, y_train)\n",
        "\n",
        "    print(\"Les meilleurs paramètres trouvés : \")\n",
        "    print()\n",
        "    print(clf.best_params_)\n",
        "    print()\n",
        "    print(\"Scores du grid :\")\n",
        "    print()\n",
        "    means = clf.cv_results_['mean_test_score']\n",
        "    stds = clf.cv_results_['std_test_score']\n",
        "    for mean, std, params in zip(means, stds, clf.cv_results_['params']):\n",
        "        print(\"%0.3f (+/-%0.03f) pour %r\"\n",
        "              % (mean, std * 2, params))\n",
        "    print()\n",
        "\n",
        "    print(\"Rapport détaillé :\")\n",
        "    y_true, y_pred = y_test, clf.predict(X_test)\n",
        "    print(classification_report(y_true, y_pred))\n",
        "    print()\n",
        "\n",
        "print(\"Test set score: {:.2f} \".format(round(mlp.score(X_train,y_train), 4)))\n",
        "print(\"Training set score: {:.2f} \".format(round(mlp.score(X_test,y_test), 4)))"
      ],
      "execution_count": null,
      "outputs": [
        {
          "output_type": "stream",
          "text": [
            "/usr/local/lib/python3.7/dist-packages/sklearn/neural_network/_multilayer_perceptron.py:571: ConvergenceWarning: Stochastic Optimizer: Maximum iterations (200) reached and the optimization hasn't converged yet.\n",
            "  % self.max_iter, ConvergenceWarning)\n"
          ],
          "name": "stderr"
        },
        {
          "output_type": "stream",
          "text": [
            "# Réglage des hyper-parameters pour precision\n",
            "\n"
          ],
          "name": "stdout"
        },
        {
          "output_type": "stream",
          "text": [
            "/usr/local/lib/python3.7/dist-packages/sklearn/neural_network/_multilayer_perceptron.py:571: ConvergenceWarning: Stochastic Optimizer: Maximum iterations (200) reached and the optimization hasn't converged yet.\n",
            "  % self.max_iter, ConvergenceWarning)\n",
            "/usr/local/lib/python3.7/dist-packages/sklearn/metrics/_classification.py:1272: UndefinedMetricWarning: Precision is ill-defined and being set to 0.0 in labels with no predicted samples. Use `zero_division` parameter to control this behavior.\n",
            "  _warn_prf(average, modifier, msg_start, len(result))\n",
            "/usr/local/lib/python3.7/dist-packages/sklearn/neural_network/_multilayer_perceptron.py:571: ConvergenceWarning: Stochastic Optimizer: Maximum iterations (200) reached and the optimization hasn't converged yet.\n",
            "  % self.max_iter, ConvergenceWarning)\n",
            "/usr/local/lib/python3.7/dist-packages/sklearn/metrics/_classification.py:1272: UndefinedMetricWarning: Precision is ill-defined and being set to 0.0 in labels with no predicted samples. Use `zero_division` parameter to control this behavior.\n",
            "  _warn_prf(average, modifier, msg_start, len(result))\n",
            "/usr/local/lib/python3.7/dist-packages/sklearn/neural_network/_multilayer_perceptron.py:571: ConvergenceWarning: Stochastic Optimizer: Maximum iterations (200) reached and the optimization hasn't converged yet.\n",
            "  % self.max_iter, ConvergenceWarning)\n",
            "/usr/local/lib/python3.7/dist-packages/sklearn/metrics/_classification.py:1272: UndefinedMetricWarning: Precision is ill-defined and being set to 0.0 in labels with no predicted samples. Use `zero_division` parameter to control this behavior.\n",
            "  _warn_prf(average, modifier, msg_start, len(result))\n",
            "/usr/local/lib/python3.7/dist-packages/sklearn/neural_network/_multilayer_perceptron.py:571: ConvergenceWarning: Stochastic Optimizer: Maximum iterations (200) reached and the optimization hasn't converged yet.\n",
            "  % self.max_iter, ConvergenceWarning)\n",
            "/usr/local/lib/python3.7/dist-packages/sklearn/metrics/_classification.py:1272: UndefinedMetricWarning: Precision is ill-defined and being set to 0.0 in labels with no predicted samples. Use `zero_division` parameter to control this behavior.\n",
            "  _warn_prf(average, modifier, msg_start, len(result))\n",
            "/usr/local/lib/python3.7/dist-packages/sklearn/neural_network/_multilayer_perceptron.py:571: ConvergenceWarning: Stochastic Optimizer: Maximum iterations (200) reached and the optimization hasn't converged yet.\n",
            "  % self.max_iter, ConvergenceWarning)\n",
            "/usr/local/lib/python3.7/dist-packages/sklearn/metrics/_classification.py:1272: UndefinedMetricWarning: Precision is ill-defined and being set to 0.0 in labels with no predicted samples. Use `zero_division` parameter to control this behavior.\n",
            "  _warn_prf(average, modifier, msg_start, len(result))\n",
            "/usr/local/lib/python3.7/dist-packages/sklearn/neural_network/_multilayer_perceptron.py:571: ConvergenceWarning: Stochastic Optimizer: Maximum iterations (200) reached and the optimization hasn't converged yet.\n",
            "  % self.max_iter, ConvergenceWarning)\n",
            "/usr/local/lib/python3.7/dist-packages/sklearn/neural_network/_multilayer_perceptron.py:571: ConvergenceWarning: Stochastic Optimizer: Maximum iterations (200) reached and the optimization hasn't converged yet.\n",
            "  % self.max_iter, ConvergenceWarning)\n",
            "/usr/local/lib/python3.7/dist-packages/sklearn/neural_network/_multilayer_perceptron.py:571: ConvergenceWarning: Stochastic Optimizer: Maximum iterations (200) reached and the optimization hasn't converged yet.\n",
            "  % self.max_iter, ConvergenceWarning)\n",
            "/usr/local/lib/python3.7/dist-packages/sklearn/neural_network/_multilayer_perceptron.py:571: ConvergenceWarning: Stochastic Optimizer: Maximum iterations (200) reached and the optimization hasn't converged yet.\n",
            "  % self.max_iter, ConvergenceWarning)\n",
            "/usr/local/lib/python3.7/dist-packages/sklearn/neural_network/_multilayer_perceptron.py:571: ConvergenceWarning: Stochastic Optimizer: Maximum iterations (200) reached and the optimization hasn't converged yet.\n",
            "  % self.max_iter, ConvergenceWarning)\n",
            "/usr/local/lib/python3.7/dist-packages/sklearn/neural_network/_multilayer_perceptron.py:571: ConvergenceWarning: Stochastic Optimizer: Maximum iterations (200) reached and the optimization hasn't converged yet.\n",
            "  % self.max_iter, ConvergenceWarning)\n",
            "/usr/local/lib/python3.7/dist-packages/sklearn/metrics/_classification.py:1272: UndefinedMetricWarning: Precision is ill-defined and being set to 0.0 in labels with no predicted samples. Use `zero_division` parameter to control this behavior.\n",
            "  _warn_prf(average, modifier, msg_start, len(result))\n",
            "/usr/local/lib/python3.7/dist-packages/sklearn/neural_network/_multilayer_perceptron.py:571: ConvergenceWarning: Stochastic Optimizer: Maximum iterations (200) reached and the optimization hasn't converged yet.\n",
            "  % self.max_iter, ConvergenceWarning)\n",
            "/usr/local/lib/python3.7/dist-packages/sklearn/metrics/_classification.py:1272: UndefinedMetricWarning: Precision is ill-defined and being set to 0.0 in labels with no predicted samples. Use `zero_division` parameter to control this behavior.\n",
            "  _warn_prf(average, modifier, msg_start, len(result))\n",
            "/usr/local/lib/python3.7/dist-packages/sklearn/metrics/_classification.py:1272: UndefinedMetricWarning: Precision is ill-defined and being set to 0.0 in labels with no predicted samples. Use `zero_division` parameter to control this behavior.\n",
            "  _warn_prf(average, modifier, msg_start, len(result))\n",
            "/usr/local/lib/python3.7/dist-packages/sklearn/neural_network/_multilayer_perceptron.py:571: ConvergenceWarning: Stochastic Optimizer: Maximum iterations (200) reached and the optimization hasn't converged yet.\n",
            "  % self.max_iter, ConvergenceWarning)\n",
            "/usr/local/lib/python3.7/dist-packages/sklearn/metrics/_classification.py:1272: UndefinedMetricWarning: Precision is ill-defined and being set to 0.0 in labels with no predicted samples. Use `zero_division` parameter to control this behavior.\n",
            "  _warn_prf(average, modifier, msg_start, len(result))\n",
            "/usr/local/lib/python3.7/dist-packages/sklearn/neural_network/_multilayer_perceptron.py:571: ConvergenceWarning: Stochastic Optimizer: Maximum iterations (200) reached and the optimization hasn't converged yet.\n",
            "  % self.max_iter, ConvergenceWarning)\n",
            "/usr/local/lib/python3.7/dist-packages/sklearn/metrics/_classification.py:1272: UndefinedMetricWarning: Precision is ill-defined and being set to 0.0 in labels with no predicted samples. Use `zero_division` parameter to control this behavior.\n",
            "  _warn_prf(average, modifier, msg_start, len(result))\n",
            "/usr/local/lib/python3.7/dist-packages/sklearn/neural_network/_multilayer_perceptron.py:571: ConvergenceWarning: Stochastic Optimizer: Maximum iterations (200) reached and the optimization hasn't converged yet.\n",
            "  % self.max_iter, ConvergenceWarning)\n",
            "/usr/local/lib/python3.7/dist-packages/sklearn/neural_network/_multilayer_perceptron.py:571: ConvergenceWarning: Stochastic Optimizer: Maximum iterations (200) reached and the optimization hasn't converged yet.\n",
            "  % self.max_iter, ConvergenceWarning)\n",
            "/usr/local/lib/python3.7/dist-packages/sklearn/neural_network/_multilayer_perceptron.py:571: ConvergenceWarning: Stochastic Optimizer: Maximum iterations (200) reached and the optimization hasn't converged yet.\n",
            "  % self.max_iter, ConvergenceWarning)\n",
            "/usr/local/lib/python3.7/dist-packages/sklearn/neural_network/_multilayer_perceptron.py:571: ConvergenceWarning: Stochastic Optimizer: Maximum iterations (200) reached and the optimization hasn't converged yet.\n",
            "  % self.max_iter, ConvergenceWarning)\n",
            "/usr/local/lib/python3.7/dist-packages/sklearn/neural_network/_multilayer_perceptron.py:571: ConvergenceWarning: Stochastic Optimizer: Maximum iterations (200) reached and the optimization hasn't converged yet.\n",
            "  % self.max_iter, ConvergenceWarning)\n",
            "/usr/local/lib/python3.7/dist-packages/sklearn/neural_network/_multilayer_perceptron.py:571: ConvergenceWarning: Stochastic Optimizer: Maximum iterations (200) reached and the optimization hasn't converged yet.\n",
            "  % self.max_iter, ConvergenceWarning)\n",
            "/usr/local/lib/python3.7/dist-packages/sklearn/metrics/_classification.py:1272: UndefinedMetricWarning: Precision is ill-defined and being set to 0.0 in labels with no predicted samples. Use `zero_division` parameter to control this behavior.\n",
            "  _warn_prf(average, modifier, msg_start, len(result))\n",
            "/usr/local/lib/python3.7/dist-packages/sklearn/neural_network/_multilayer_perceptron.py:571: ConvergenceWarning: Stochastic Optimizer: Maximum iterations (200) reached and the optimization hasn't converged yet.\n",
            "  % self.max_iter, ConvergenceWarning)\n",
            "/usr/local/lib/python3.7/dist-packages/sklearn/metrics/_classification.py:1272: UndefinedMetricWarning: Precision is ill-defined and being set to 0.0 in labels with no predicted samples. Use `zero_division` parameter to control this behavior.\n",
            "  _warn_prf(average, modifier, msg_start, len(result))\n",
            "/usr/local/lib/python3.7/dist-packages/sklearn/neural_network/_multilayer_perceptron.py:571: ConvergenceWarning: Stochastic Optimizer: Maximum iterations (200) reached and the optimization hasn't converged yet.\n",
            "  % self.max_iter, ConvergenceWarning)\n",
            "/usr/local/lib/python3.7/dist-packages/sklearn/metrics/_classification.py:1272: UndefinedMetricWarning: Precision is ill-defined and being set to 0.0 in labels with no predicted samples. Use `zero_division` parameter to control this behavior.\n",
            "  _warn_prf(average, modifier, msg_start, len(result))\n",
            "/usr/local/lib/python3.7/dist-packages/sklearn/neural_network/_multilayer_perceptron.py:571: ConvergenceWarning: Stochastic Optimizer: Maximum iterations (200) reached and the optimization hasn't converged yet.\n",
            "  % self.max_iter, ConvergenceWarning)\n",
            "/usr/local/lib/python3.7/dist-packages/sklearn/metrics/_classification.py:1272: UndefinedMetricWarning: Precision is ill-defined and being set to 0.0 in labels with no predicted samples. Use `zero_division` parameter to control this behavior.\n",
            "  _warn_prf(average, modifier, msg_start, len(result))\n",
            "/usr/local/lib/python3.7/dist-packages/sklearn/neural_network/_multilayer_perceptron.py:571: ConvergenceWarning: Stochastic Optimizer: Maximum iterations (200) reached and the optimization hasn't converged yet.\n",
            "  % self.max_iter, ConvergenceWarning)\n",
            "/usr/local/lib/python3.7/dist-packages/sklearn/metrics/_classification.py:1272: UndefinedMetricWarning: Precision is ill-defined and being set to 0.0 in labels with no predicted samples. Use `zero_division` parameter to control this behavior.\n",
            "  _warn_prf(average, modifier, msg_start, len(result))\n",
            "/usr/local/lib/python3.7/dist-packages/sklearn/neural_network/_multilayer_perceptron.py:571: ConvergenceWarning: Stochastic Optimizer: Maximum iterations (200) reached and the optimization hasn't converged yet.\n",
            "  % self.max_iter, ConvergenceWarning)\n",
            "/usr/local/lib/python3.7/dist-packages/sklearn/metrics/_classification.py:1272: UndefinedMetricWarning: Precision is ill-defined and being set to 0.0 in labels with no predicted samples. Use `zero_division` parameter to control this behavior.\n",
            "  _warn_prf(average, modifier, msg_start, len(result))\n",
            "/usr/local/lib/python3.7/dist-packages/sklearn/neural_network/_multilayer_perceptron.py:571: ConvergenceWarning: Stochastic Optimizer: Maximum iterations (200) reached and the optimization hasn't converged yet.\n",
            "  % self.max_iter, ConvergenceWarning)\n",
            "/usr/local/lib/python3.7/dist-packages/sklearn/neural_network/_multilayer_perceptron.py:571: ConvergenceWarning: Stochastic Optimizer: Maximum iterations (200) reached and the optimization hasn't converged yet.\n",
            "  % self.max_iter, ConvergenceWarning)\n",
            "/usr/local/lib/python3.7/dist-packages/sklearn/metrics/_classification.py:1272: UndefinedMetricWarning: Precision is ill-defined and being set to 0.0 in labels with no predicted samples. Use `zero_division` parameter to control this behavior.\n",
            "  _warn_prf(average, modifier, msg_start, len(result))\n",
            "/usr/local/lib/python3.7/dist-packages/sklearn/neural_network/_multilayer_perceptron.py:571: ConvergenceWarning: Stochastic Optimizer: Maximum iterations (200) reached and the optimization hasn't converged yet.\n",
            "  % self.max_iter, ConvergenceWarning)\n",
            "/usr/local/lib/python3.7/dist-packages/sklearn/metrics/_classification.py:1272: UndefinedMetricWarning: Precision is ill-defined and being set to 0.0 in labels with no predicted samples. Use `zero_division` parameter to control this behavior.\n",
            "  _warn_prf(average, modifier, msg_start, len(result))\n",
            "/usr/local/lib/python3.7/dist-packages/sklearn/neural_network/_multilayer_perceptron.py:571: ConvergenceWarning: Stochastic Optimizer: Maximum iterations (200) reached and the optimization hasn't converged yet.\n",
            "  % self.max_iter, ConvergenceWarning)\n",
            "/usr/local/lib/python3.7/dist-packages/sklearn/metrics/_classification.py:1272: UndefinedMetricWarning: Precision is ill-defined and being set to 0.0 in labels with no predicted samples. Use `zero_division` parameter to control this behavior.\n",
            "  _warn_prf(average, modifier, msg_start, len(result))\n",
            "/usr/local/lib/python3.7/dist-packages/sklearn/metrics/_classification.py:1272: UndefinedMetricWarning: Precision is ill-defined and being set to 0.0 in labels with no predicted samples. Use `zero_division` parameter to control this behavior.\n",
            "  _warn_prf(average, modifier, msg_start, len(result))\n",
            "/usr/local/lib/python3.7/dist-packages/sklearn/neural_network/_multilayer_perceptron.py:571: ConvergenceWarning: Stochastic Optimizer: Maximum iterations (200) reached and the optimization hasn't converged yet.\n",
            "  % self.max_iter, ConvergenceWarning)\n",
            "/usr/local/lib/python3.7/dist-packages/sklearn/metrics/_classification.py:1272: UndefinedMetricWarning: Precision is ill-defined and being set to 0.0 in labels with no predicted samples. Use `zero_division` parameter to control this behavior.\n",
            "  _warn_prf(average, modifier, msg_start, len(result))\n",
            "/usr/local/lib/python3.7/dist-packages/sklearn/neural_network/_multilayer_perceptron.py:571: ConvergenceWarning: Stochastic Optimizer: Maximum iterations (200) reached and the optimization hasn't converged yet.\n",
            "  % self.max_iter, ConvergenceWarning)\n",
            "/usr/local/lib/python3.7/dist-packages/sklearn/metrics/_classification.py:1272: UndefinedMetricWarning: Precision is ill-defined and being set to 0.0 in labels with no predicted samples. Use `zero_division` parameter to control this behavior.\n",
            "  _warn_prf(average, modifier, msg_start, len(result))\n",
            "/usr/local/lib/python3.7/dist-packages/sklearn/neural_network/_multilayer_perceptron.py:571: ConvergenceWarning: Stochastic Optimizer: Maximum iterations (200) reached and the optimization hasn't converged yet.\n",
            "  % self.max_iter, ConvergenceWarning)\n",
            "/usr/local/lib/python3.7/dist-packages/sklearn/neural_network/_multilayer_perceptron.py:571: ConvergenceWarning: Stochastic Optimizer: Maximum iterations (200) reached and the optimization hasn't converged yet.\n",
            "  % self.max_iter, ConvergenceWarning)\n",
            "/usr/local/lib/python3.7/dist-packages/sklearn/neural_network/_multilayer_perceptron.py:571: ConvergenceWarning: Stochastic Optimizer: Maximum iterations (200) reached and the optimization hasn't converged yet.\n",
            "  % self.max_iter, ConvergenceWarning)\n",
            "/usr/local/lib/python3.7/dist-packages/sklearn/neural_network/_multilayer_perceptron.py:571: ConvergenceWarning: Stochastic Optimizer: Maximum iterations (200) reached and the optimization hasn't converged yet.\n",
            "  % self.max_iter, ConvergenceWarning)\n",
            "/usr/local/lib/python3.7/dist-packages/sklearn/neural_network/_multilayer_perceptron.py:571: ConvergenceWarning: Stochastic Optimizer: Maximum iterations (200) reached and the optimization hasn't converged yet.\n",
            "  % self.max_iter, ConvergenceWarning)\n",
            "/usr/local/lib/python3.7/dist-packages/sklearn/neural_network/_multilayer_perceptron.py:571: ConvergenceWarning: Stochastic Optimizer: Maximum iterations (200) reached and the optimization hasn't converged yet.\n",
            "  % self.max_iter, ConvergenceWarning)\n",
            "/usr/local/lib/python3.7/dist-packages/sklearn/metrics/_classification.py:1272: UndefinedMetricWarning: Precision is ill-defined and being set to 0.0 in labels with no predicted samples. Use `zero_division` parameter to control this behavior.\n",
            "  _warn_prf(average, modifier, msg_start, len(result))\n",
            "/usr/local/lib/python3.7/dist-packages/sklearn/neural_network/_multilayer_perceptron.py:571: ConvergenceWarning: Stochastic Optimizer: Maximum iterations (200) reached and the optimization hasn't converged yet.\n",
            "  % self.max_iter, ConvergenceWarning)\n",
            "/usr/local/lib/python3.7/dist-packages/sklearn/metrics/_classification.py:1272: UndefinedMetricWarning: Precision is ill-defined and being set to 0.0 in labels with no predicted samples. Use `zero_division` parameter to control this behavior.\n",
            "  _warn_prf(average, modifier, msg_start, len(result))\n",
            "/usr/local/lib/python3.7/dist-packages/sklearn/neural_network/_multilayer_perceptron.py:571: ConvergenceWarning: Stochastic Optimizer: Maximum iterations (200) reached and the optimization hasn't converged yet.\n",
            "  % self.max_iter, ConvergenceWarning)\n",
            "/usr/local/lib/python3.7/dist-packages/sklearn/metrics/_classification.py:1272: UndefinedMetricWarning: Precision is ill-defined and being set to 0.0 in labels with no predicted samples. Use `zero_division` parameter to control this behavior.\n",
            "  _warn_prf(average, modifier, msg_start, len(result))\n",
            "/usr/local/lib/python3.7/dist-packages/sklearn/neural_network/_multilayer_perceptron.py:571: ConvergenceWarning: Stochastic Optimizer: Maximum iterations (200) reached and the optimization hasn't converged yet.\n",
            "  % self.max_iter, ConvergenceWarning)\n",
            "/usr/local/lib/python3.7/dist-packages/sklearn/metrics/_classification.py:1272: UndefinedMetricWarning: Precision is ill-defined and being set to 0.0 in labels with no predicted samples. Use `zero_division` parameter to control this behavior.\n",
            "  _warn_prf(average, modifier, msg_start, len(result))\n",
            "/usr/local/lib/python3.7/dist-packages/sklearn/neural_network/_multilayer_perceptron.py:571: ConvergenceWarning: Stochastic Optimizer: Maximum iterations (200) reached and the optimization hasn't converged yet.\n",
            "  % self.max_iter, ConvergenceWarning)\n",
            "/usr/local/lib/python3.7/dist-packages/sklearn/metrics/_classification.py:1272: UndefinedMetricWarning: Precision is ill-defined and being set to 0.0 in labels with no predicted samples. Use `zero_division` parameter to control this behavior.\n",
            "  _warn_prf(average, modifier, msg_start, len(result))\n",
            "/usr/local/lib/python3.7/dist-packages/sklearn/neural_network/_multilayer_perceptron.py:571: ConvergenceWarning: Stochastic Optimizer: Maximum iterations (200) reached and the optimization hasn't converged yet.\n",
            "  % self.max_iter, ConvergenceWarning)\n",
            "/usr/local/lib/python3.7/dist-packages/sklearn/neural_network/_multilayer_perceptron.py:571: ConvergenceWarning: Stochastic Optimizer: Maximum iterations (200) reached and the optimization hasn't converged yet.\n",
            "  % self.max_iter, ConvergenceWarning)\n",
            "/usr/local/lib/python3.7/dist-packages/sklearn/neural_network/_multilayer_perceptron.py:571: ConvergenceWarning: Stochastic Optimizer: Maximum iterations (200) reached and the optimization hasn't converged yet.\n",
            "  % self.max_iter, ConvergenceWarning)\n",
            "/usr/local/lib/python3.7/dist-packages/sklearn/neural_network/_multilayer_perceptron.py:571: ConvergenceWarning: Stochastic Optimizer: Maximum iterations (200) reached and the optimization hasn't converged yet.\n",
            "  % self.max_iter, ConvergenceWarning)\n",
            "/usr/local/lib/python3.7/dist-packages/sklearn/neural_network/_multilayer_perceptron.py:571: ConvergenceWarning: Stochastic Optimizer: Maximum iterations (200) reached and the optimization hasn't converged yet.\n",
            "  % self.max_iter, ConvergenceWarning)\n",
            "/usr/local/lib/python3.7/dist-packages/sklearn/neural_network/_multilayer_perceptron.py:571: ConvergenceWarning: Stochastic Optimizer: Maximum iterations (200) reached and the optimization hasn't converged yet.\n",
            "  % self.max_iter, ConvergenceWarning)\n",
            "/usr/local/lib/python3.7/dist-packages/sklearn/metrics/_classification.py:1272: UndefinedMetricWarning: Precision is ill-defined and being set to 0.0 in labels with no predicted samples. Use `zero_division` parameter to control this behavior.\n",
            "  _warn_prf(average, modifier, msg_start, len(result))\n",
            "/usr/local/lib/python3.7/dist-packages/sklearn/neural_network/_multilayer_perceptron.py:571: ConvergenceWarning: Stochastic Optimizer: Maximum iterations (200) reached and the optimization hasn't converged yet.\n",
            "  % self.max_iter, ConvergenceWarning)\n",
            "/usr/local/lib/python3.7/dist-packages/sklearn/metrics/_classification.py:1272: UndefinedMetricWarning: Precision is ill-defined and being set to 0.0 in labels with no predicted samples. Use `zero_division` parameter to control this behavior.\n",
            "  _warn_prf(average, modifier, msg_start, len(result))\n",
            "/usr/local/lib/python3.7/dist-packages/sklearn/neural_network/_multilayer_perceptron.py:571: ConvergenceWarning: Stochastic Optimizer: Maximum iterations (200) reached and the optimization hasn't converged yet.\n",
            "  % self.max_iter, ConvergenceWarning)\n",
            "/usr/local/lib/python3.7/dist-packages/sklearn/metrics/_classification.py:1272: UndefinedMetricWarning: Precision is ill-defined and being set to 0.0 in labels with no predicted samples. Use `zero_division` parameter to control this behavior.\n",
            "  _warn_prf(average, modifier, msg_start, len(result))\n",
            "/usr/local/lib/python3.7/dist-packages/sklearn/neural_network/_multilayer_perceptron.py:571: ConvergenceWarning: Stochastic Optimizer: Maximum iterations (200) reached and the optimization hasn't converged yet.\n",
            "  % self.max_iter, ConvergenceWarning)\n",
            "/usr/local/lib/python3.7/dist-packages/sklearn/metrics/_classification.py:1272: UndefinedMetricWarning: Precision is ill-defined and being set to 0.0 in labels with no predicted samples. Use `zero_division` parameter to control this behavior.\n",
            "  _warn_prf(average, modifier, msg_start, len(result))\n",
            "/usr/local/lib/python3.7/dist-packages/sklearn/neural_network/_multilayer_perceptron.py:571: ConvergenceWarning: Stochastic Optimizer: Maximum iterations (200) reached and the optimization hasn't converged yet.\n",
            "  % self.max_iter, ConvergenceWarning)\n",
            "/usr/local/lib/python3.7/dist-packages/sklearn/metrics/_classification.py:1272: UndefinedMetricWarning: Precision is ill-defined and being set to 0.0 in labels with no predicted samples. Use `zero_division` parameter to control this behavior.\n",
            "  _warn_prf(average, modifier, msg_start, len(result))\n",
            "/usr/local/lib/python3.7/dist-packages/sklearn/neural_network/_multilayer_perceptron.py:571: ConvergenceWarning: Stochastic Optimizer: Maximum iterations (200) reached and the optimization hasn't converged yet.\n",
            "  % self.max_iter, ConvergenceWarning)\n",
            "/usr/local/lib/python3.7/dist-packages/sklearn/neural_network/_multilayer_perceptron.py:571: ConvergenceWarning: Stochastic Optimizer: Maximum iterations (200) reached and the optimization hasn't converged yet.\n",
            "  % self.max_iter, ConvergenceWarning)\n",
            "/usr/local/lib/python3.7/dist-packages/sklearn/neural_network/_multilayer_perceptron.py:571: ConvergenceWarning: Stochastic Optimizer: Maximum iterations (200) reached and the optimization hasn't converged yet.\n",
            "  % self.max_iter, ConvergenceWarning)\n",
            "/usr/local/lib/python3.7/dist-packages/sklearn/neural_network/_multilayer_perceptron.py:571: ConvergenceWarning: Stochastic Optimizer: Maximum iterations (200) reached and the optimization hasn't converged yet.\n",
            "  % self.max_iter, ConvergenceWarning)\n",
            "/usr/local/lib/python3.7/dist-packages/sklearn/neural_network/_multilayer_perceptron.py:571: ConvergenceWarning: Stochastic Optimizer: Maximum iterations (200) reached and the optimization hasn't converged yet.\n",
            "  % self.max_iter, ConvergenceWarning)\n",
            "/usr/local/lib/python3.7/dist-packages/sklearn/neural_network/_multilayer_perceptron.py:571: ConvergenceWarning: Stochastic Optimizer: Maximum iterations (200) reached and the optimization hasn't converged yet.\n",
            "  % self.max_iter, ConvergenceWarning)\n"
          ],
          "name": "stderr"
        },
        {
          "output_type": "stream",
          "text": [
            "Les meilleurs paramètres trouvés : \n",
            "\n",
            "{'alpha': 0.05, 'hidden_layer_sizes': (100,), 'solver': 'adam'}\n",
            "\n",
            "Scores du grid :\n",
            "\n",
            "0.407 (+/-0.007) pour {'alpha': 0.0001, 'hidden_layer_sizes': (50, 50, 50), 'solver': 'sgd'}\n",
            "0.660 (+/-0.285) pour {'alpha': 0.0001, 'hidden_layer_sizes': (50, 50, 50), 'solver': 'adam'}\n",
            "0.407 (+/-0.007) pour {'alpha': 0.0001, 'hidden_layer_sizes': (50, 100, 50), 'solver': 'sgd'}\n",
            "0.653 (+/-0.160) pour {'alpha': 0.0001, 'hidden_layer_sizes': (50, 100, 50), 'solver': 'adam'}\n",
            "0.407 (+/-0.007) pour {'alpha': 0.0001, 'hidden_layer_sizes': (100,), 'solver': 'sgd'}\n",
            "0.581 (+/-0.381) pour {'alpha': 0.0001, 'hidden_layer_sizes': (100,), 'solver': 'adam'}\n",
            "0.407 (+/-0.007) pour {'alpha': 0.05, 'hidden_layer_sizes': (50, 50, 50), 'solver': 'sgd'}\n",
            "0.634 (+/-0.207) pour {'alpha': 0.05, 'hidden_layer_sizes': (50, 50, 50), 'solver': 'adam'}\n",
            "0.407 (+/-0.007) pour {'alpha': 0.05, 'hidden_layer_sizes': (50, 100, 50), 'solver': 'sgd'}\n",
            "0.593 (+/-0.212) pour {'alpha': 0.05, 'hidden_layer_sizes': (50, 100, 50), 'solver': 'adam'}\n",
            "0.407 (+/-0.007) pour {'alpha': 0.05, 'hidden_layer_sizes': (100,), 'solver': 'sgd'}\n",
            "0.689 (+/-0.264) pour {'alpha': 0.05, 'hidden_layer_sizes': (100,), 'solver': 'adam'}\n",
            "\n",
            "Rapport détaillé :\n",
            "              precision    recall  f1-score   support\n",
            "\n",
            "           0       0.86      0.93      0.90       129\n",
            "           1       0.44      0.27      0.33        26\n",
            "\n",
            "    accuracy                           0.82       155\n",
            "   macro avg       0.65      0.60      0.61       155\n",
            "weighted avg       0.79      0.82      0.80       155\n",
            "\n",
            "\n",
            "# Réglage des hyper-parameters pour recall\n",
            "\n"
          ],
          "name": "stdout"
        },
        {
          "output_type": "stream",
          "text": [
            "/usr/local/lib/python3.7/dist-packages/sklearn/neural_network/_multilayer_perceptron.py:571: ConvergenceWarning: Stochastic Optimizer: Maximum iterations (200) reached and the optimization hasn't converged yet.\n",
            "  % self.max_iter, ConvergenceWarning)\n",
            "/usr/local/lib/python3.7/dist-packages/sklearn/neural_network/_multilayer_perceptron.py:571: ConvergenceWarning: Stochastic Optimizer: Maximum iterations (200) reached and the optimization hasn't converged yet.\n",
            "  % self.max_iter, ConvergenceWarning)\n",
            "/usr/local/lib/python3.7/dist-packages/sklearn/neural_network/_multilayer_perceptron.py:571: ConvergenceWarning: Stochastic Optimizer: Maximum iterations (200) reached and the optimization hasn't converged yet.\n",
            "  % self.max_iter, ConvergenceWarning)\n",
            "/usr/local/lib/python3.7/dist-packages/sklearn/neural_network/_multilayer_perceptron.py:571: ConvergenceWarning: Stochastic Optimizer: Maximum iterations (200) reached and the optimization hasn't converged yet.\n",
            "  % self.max_iter, ConvergenceWarning)\n",
            "/usr/local/lib/python3.7/dist-packages/sklearn/neural_network/_multilayer_perceptron.py:571: ConvergenceWarning: Stochastic Optimizer: Maximum iterations (200) reached and the optimization hasn't converged yet.\n",
            "  % self.max_iter, ConvergenceWarning)\n",
            "/usr/local/lib/python3.7/dist-packages/sklearn/neural_network/_multilayer_perceptron.py:571: ConvergenceWarning: Stochastic Optimizer: Maximum iterations (200) reached and the optimization hasn't converged yet.\n",
            "  % self.max_iter, ConvergenceWarning)\n",
            "/usr/local/lib/python3.7/dist-packages/sklearn/neural_network/_multilayer_perceptron.py:571: ConvergenceWarning: Stochastic Optimizer: Maximum iterations (200) reached and the optimization hasn't converged yet.\n",
            "  % self.max_iter, ConvergenceWarning)\n",
            "/usr/local/lib/python3.7/dist-packages/sklearn/neural_network/_multilayer_perceptron.py:571: ConvergenceWarning: Stochastic Optimizer: Maximum iterations (200) reached and the optimization hasn't converged yet.\n",
            "  % self.max_iter, ConvergenceWarning)\n",
            "/usr/local/lib/python3.7/dist-packages/sklearn/neural_network/_multilayer_perceptron.py:571: ConvergenceWarning: Stochastic Optimizer: Maximum iterations (200) reached and the optimization hasn't converged yet.\n",
            "  % self.max_iter, ConvergenceWarning)\n",
            "/usr/local/lib/python3.7/dist-packages/sklearn/neural_network/_multilayer_perceptron.py:571: ConvergenceWarning: Stochastic Optimizer: Maximum iterations (200) reached and the optimization hasn't converged yet.\n",
            "  % self.max_iter, ConvergenceWarning)\n",
            "/usr/local/lib/python3.7/dist-packages/sklearn/neural_network/_multilayer_perceptron.py:571: ConvergenceWarning: Stochastic Optimizer: Maximum iterations (200) reached and the optimization hasn't converged yet.\n",
            "  % self.max_iter, ConvergenceWarning)\n",
            "/usr/local/lib/python3.7/dist-packages/sklearn/neural_network/_multilayer_perceptron.py:571: ConvergenceWarning: Stochastic Optimizer: Maximum iterations (200) reached and the optimization hasn't converged yet.\n",
            "  % self.max_iter, ConvergenceWarning)\n",
            "/usr/local/lib/python3.7/dist-packages/sklearn/neural_network/_multilayer_perceptron.py:571: ConvergenceWarning: Stochastic Optimizer: Maximum iterations (200) reached and the optimization hasn't converged yet.\n",
            "  % self.max_iter, ConvergenceWarning)\n",
            "/usr/local/lib/python3.7/dist-packages/sklearn/neural_network/_multilayer_perceptron.py:571: ConvergenceWarning: Stochastic Optimizer: Maximum iterations (200) reached and the optimization hasn't converged yet.\n",
            "  % self.max_iter, ConvergenceWarning)\n",
            "/usr/local/lib/python3.7/dist-packages/sklearn/neural_network/_multilayer_perceptron.py:571: ConvergenceWarning: Stochastic Optimizer: Maximum iterations (200) reached and the optimization hasn't converged yet.\n",
            "  % self.max_iter, ConvergenceWarning)\n",
            "/usr/local/lib/python3.7/dist-packages/sklearn/neural_network/_multilayer_perceptron.py:571: ConvergenceWarning: Stochastic Optimizer: Maximum iterations (200) reached and the optimization hasn't converged yet.\n",
            "  % self.max_iter, ConvergenceWarning)\n",
            "/usr/local/lib/python3.7/dist-packages/sklearn/neural_network/_multilayer_perceptron.py:571: ConvergenceWarning: Stochastic Optimizer: Maximum iterations (200) reached and the optimization hasn't converged yet.\n",
            "  % self.max_iter, ConvergenceWarning)\n",
            "/usr/local/lib/python3.7/dist-packages/sklearn/neural_network/_multilayer_perceptron.py:571: ConvergenceWarning: Stochastic Optimizer: Maximum iterations (200) reached and the optimization hasn't converged yet.\n",
            "  % self.max_iter, ConvergenceWarning)\n",
            "/usr/local/lib/python3.7/dist-packages/sklearn/neural_network/_multilayer_perceptron.py:571: ConvergenceWarning: Stochastic Optimizer: Maximum iterations (200) reached and the optimization hasn't converged yet.\n",
            "  % self.max_iter, ConvergenceWarning)\n",
            "/usr/local/lib/python3.7/dist-packages/sklearn/neural_network/_multilayer_perceptron.py:571: ConvergenceWarning: Stochastic Optimizer: Maximum iterations (200) reached and the optimization hasn't converged yet.\n",
            "  % self.max_iter, ConvergenceWarning)\n",
            "/usr/local/lib/python3.7/dist-packages/sklearn/neural_network/_multilayer_perceptron.py:571: ConvergenceWarning: Stochastic Optimizer: Maximum iterations (200) reached and the optimization hasn't converged yet.\n",
            "  % self.max_iter, ConvergenceWarning)\n",
            "/usr/local/lib/python3.7/dist-packages/sklearn/neural_network/_multilayer_perceptron.py:571: ConvergenceWarning: Stochastic Optimizer: Maximum iterations (200) reached and the optimization hasn't converged yet.\n",
            "  % self.max_iter, ConvergenceWarning)\n",
            "/usr/local/lib/python3.7/dist-packages/sklearn/neural_network/_multilayer_perceptron.py:571: ConvergenceWarning: Stochastic Optimizer: Maximum iterations (200) reached and the optimization hasn't converged yet.\n",
            "  % self.max_iter, ConvergenceWarning)\n",
            "/usr/local/lib/python3.7/dist-packages/sklearn/neural_network/_multilayer_perceptron.py:571: ConvergenceWarning: Stochastic Optimizer: Maximum iterations (200) reached and the optimization hasn't converged yet.\n",
            "  % self.max_iter, ConvergenceWarning)\n",
            "/usr/local/lib/python3.7/dist-packages/sklearn/neural_network/_multilayer_perceptron.py:571: ConvergenceWarning: Stochastic Optimizer: Maximum iterations (200) reached and the optimization hasn't converged yet.\n",
            "  % self.max_iter, ConvergenceWarning)\n",
            "/usr/local/lib/python3.7/dist-packages/sklearn/neural_network/_multilayer_perceptron.py:571: ConvergenceWarning: Stochastic Optimizer: Maximum iterations (200) reached and the optimization hasn't converged yet.\n",
            "  % self.max_iter, ConvergenceWarning)\n",
            "/usr/local/lib/python3.7/dist-packages/sklearn/neural_network/_multilayer_perceptron.py:571: ConvergenceWarning: Stochastic Optimizer: Maximum iterations (200) reached and the optimization hasn't converged yet.\n",
            "  % self.max_iter, ConvergenceWarning)\n",
            "/usr/local/lib/python3.7/dist-packages/sklearn/neural_network/_multilayer_perceptron.py:571: ConvergenceWarning: Stochastic Optimizer: Maximum iterations (200) reached and the optimization hasn't converged yet.\n",
            "  % self.max_iter, ConvergenceWarning)\n",
            "/usr/local/lib/python3.7/dist-packages/sklearn/neural_network/_multilayer_perceptron.py:571: ConvergenceWarning: Stochastic Optimizer: Maximum iterations (200) reached and the optimization hasn't converged yet.\n",
            "  % self.max_iter, ConvergenceWarning)\n",
            "/usr/local/lib/python3.7/dist-packages/sklearn/neural_network/_multilayer_perceptron.py:571: ConvergenceWarning: Stochastic Optimizer: Maximum iterations (200) reached and the optimization hasn't converged yet.\n",
            "  % self.max_iter, ConvergenceWarning)\n",
            "/usr/local/lib/python3.7/dist-packages/sklearn/neural_network/_multilayer_perceptron.py:571: ConvergenceWarning: Stochastic Optimizer: Maximum iterations (200) reached and the optimization hasn't converged yet.\n",
            "  % self.max_iter, ConvergenceWarning)\n",
            "/usr/local/lib/python3.7/dist-packages/sklearn/neural_network/_multilayer_perceptron.py:571: ConvergenceWarning: Stochastic Optimizer: Maximum iterations (200) reached and the optimization hasn't converged yet.\n",
            "  % self.max_iter, ConvergenceWarning)\n",
            "/usr/local/lib/python3.7/dist-packages/sklearn/neural_network/_multilayer_perceptron.py:571: ConvergenceWarning: Stochastic Optimizer: Maximum iterations (200) reached and the optimization hasn't converged yet.\n",
            "  % self.max_iter, ConvergenceWarning)\n",
            "/usr/local/lib/python3.7/dist-packages/sklearn/neural_network/_multilayer_perceptron.py:571: ConvergenceWarning: Stochastic Optimizer: Maximum iterations (200) reached and the optimization hasn't converged yet.\n",
            "  % self.max_iter, ConvergenceWarning)\n",
            "/usr/local/lib/python3.7/dist-packages/sklearn/neural_network/_multilayer_perceptron.py:571: ConvergenceWarning: Stochastic Optimizer: Maximum iterations (200) reached and the optimization hasn't converged yet.\n",
            "  % self.max_iter, ConvergenceWarning)\n",
            "/usr/local/lib/python3.7/dist-packages/sklearn/neural_network/_multilayer_perceptron.py:571: ConvergenceWarning: Stochastic Optimizer: Maximum iterations (200) reached and the optimization hasn't converged yet.\n",
            "  % self.max_iter, ConvergenceWarning)\n",
            "/usr/local/lib/python3.7/dist-packages/sklearn/neural_network/_multilayer_perceptron.py:571: ConvergenceWarning: Stochastic Optimizer: Maximum iterations (200) reached and the optimization hasn't converged yet.\n",
            "  % self.max_iter, ConvergenceWarning)\n",
            "/usr/local/lib/python3.7/dist-packages/sklearn/neural_network/_multilayer_perceptron.py:571: ConvergenceWarning: Stochastic Optimizer: Maximum iterations (200) reached and the optimization hasn't converged yet.\n",
            "  % self.max_iter, ConvergenceWarning)\n",
            "/usr/local/lib/python3.7/dist-packages/sklearn/neural_network/_multilayer_perceptron.py:571: ConvergenceWarning: Stochastic Optimizer: Maximum iterations (200) reached and the optimization hasn't converged yet.\n",
            "  % self.max_iter, ConvergenceWarning)\n",
            "/usr/local/lib/python3.7/dist-packages/sklearn/neural_network/_multilayer_perceptron.py:571: ConvergenceWarning: Stochastic Optimizer: Maximum iterations (200) reached and the optimization hasn't converged yet.\n",
            "  % self.max_iter, ConvergenceWarning)\n",
            "/usr/local/lib/python3.7/dist-packages/sklearn/neural_network/_multilayer_perceptron.py:571: ConvergenceWarning: Stochastic Optimizer: Maximum iterations (200) reached and the optimization hasn't converged yet.\n",
            "  % self.max_iter, ConvergenceWarning)\n",
            "/usr/local/lib/python3.7/dist-packages/sklearn/neural_network/_multilayer_perceptron.py:571: ConvergenceWarning: Stochastic Optimizer: Maximum iterations (200) reached and the optimization hasn't converged yet.\n",
            "  % self.max_iter, ConvergenceWarning)\n",
            "/usr/local/lib/python3.7/dist-packages/sklearn/neural_network/_multilayer_perceptron.py:571: ConvergenceWarning: Stochastic Optimizer: Maximum iterations (200) reached and the optimization hasn't converged yet.\n",
            "  % self.max_iter, ConvergenceWarning)\n",
            "/usr/local/lib/python3.7/dist-packages/sklearn/neural_network/_multilayer_perceptron.py:571: ConvergenceWarning: Stochastic Optimizer: Maximum iterations (200) reached and the optimization hasn't converged yet.\n",
            "  % self.max_iter, ConvergenceWarning)\n",
            "/usr/local/lib/python3.7/dist-packages/sklearn/neural_network/_multilayer_perceptron.py:571: ConvergenceWarning: Stochastic Optimizer: Maximum iterations (200) reached and the optimization hasn't converged yet.\n",
            "  % self.max_iter, ConvergenceWarning)\n",
            "/usr/local/lib/python3.7/dist-packages/sklearn/neural_network/_multilayer_perceptron.py:571: ConvergenceWarning: Stochastic Optimizer: Maximum iterations (200) reached and the optimization hasn't converged yet.\n",
            "  % self.max_iter, ConvergenceWarning)\n",
            "/usr/local/lib/python3.7/dist-packages/sklearn/neural_network/_multilayer_perceptron.py:571: ConvergenceWarning: Stochastic Optimizer: Maximum iterations (200) reached and the optimization hasn't converged yet.\n",
            "  % self.max_iter, ConvergenceWarning)\n",
            "/usr/local/lib/python3.7/dist-packages/sklearn/neural_network/_multilayer_perceptron.py:571: ConvergenceWarning: Stochastic Optimizer: Maximum iterations (200) reached and the optimization hasn't converged yet.\n",
            "  % self.max_iter, ConvergenceWarning)\n",
            "/usr/local/lib/python3.7/dist-packages/sklearn/neural_network/_multilayer_perceptron.py:571: ConvergenceWarning: Stochastic Optimizer: Maximum iterations (200) reached and the optimization hasn't converged yet.\n",
            "  % self.max_iter, ConvergenceWarning)\n",
            "/usr/local/lib/python3.7/dist-packages/sklearn/neural_network/_multilayer_perceptron.py:571: ConvergenceWarning: Stochastic Optimizer: Maximum iterations (200) reached and the optimization hasn't converged yet.\n",
            "  % self.max_iter, ConvergenceWarning)\n",
            "/usr/local/lib/python3.7/dist-packages/sklearn/neural_network/_multilayer_perceptron.py:571: ConvergenceWarning: Stochastic Optimizer: Maximum iterations (200) reached and the optimization hasn't converged yet.\n",
            "  % self.max_iter, ConvergenceWarning)\n",
            "/usr/local/lib/python3.7/dist-packages/sklearn/neural_network/_multilayer_perceptron.py:571: ConvergenceWarning: Stochastic Optimizer: Maximum iterations (200) reached and the optimization hasn't converged yet.\n",
            "  % self.max_iter, ConvergenceWarning)\n",
            "/usr/local/lib/python3.7/dist-packages/sklearn/neural_network/_multilayer_perceptron.py:571: ConvergenceWarning: Stochastic Optimizer: Maximum iterations (200) reached and the optimization hasn't converged yet.\n",
            "  % self.max_iter, ConvergenceWarning)\n",
            "/usr/local/lib/python3.7/dist-packages/sklearn/neural_network/_multilayer_perceptron.py:571: ConvergenceWarning: Stochastic Optimizer: Maximum iterations (200) reached and the optimization hasn't converged yet.\n",
            "  % self.max_iter, ConvergenceWarning)\n",
            "/usr/local/lib/python3.7/dist-packages/sklearn/neural_network/_multilayer_perceptron.py:571: ConvergenceWarning: Stochastic Optimizer: Maximum iterations (200) reached and the optimization hasn't converged yet.\n",
            "  % self.max_iter, ConvergenceWarning)\n",
            "/usr/local/lib/python3.7/dist-packages/sklearn/neural_network/_multilayer_perceptron.py:571: ConvergenceWarning: Stochastic Optimizer: Maximum iterations (200) reached and the optimization hasn't converged yet.\n",
            "  % self.max_iter, ConvergenceWarning)\n",
            "/usr/local/lib/python3.7/dist-packages/sklearn/neural_network/_multilayer_perceptron.py:571: ConvergenceWarning: Stochastic Optimizer: Maximum iterations (200) reached and the optimization hasn't converged yet.\n",
            "  % self.max_iter, ConvergenceWarning)\n",
            "/usr/local/lib/python3.7/dist-packages/sklearn/neural_network/_multilayer_perceptron.py:571: ConvergenceWarning: Stochastic Optimizer: Maximum iterations (200) reached and the optimization hasn't converged yet.\n",
            "  % self.max_iter, ConvergenceWarning)\n"
          ],
          "name": "stderr"
        },
        {
          "output_type": "stream",
          "text": [
            "Les meilleurs paramètres trouvés : \n",
            "\n",
            "{'alpha': 0.05, 'hidden_layer_sizes': (50, 50, 50), 'solver': 'adam'}\n",
            "\n",
            "Scores du grid :\n",
            "\n",
            "0.500 (+/-0.000) pour {'alpha': 0.0001, 'hidden_layer_sizes': (50, 50, 50), 'solver': 'sgd'}\n",
            "0.550 (+/-0.073) pour {'alpha': 0.0001, 'hidden_layer_sizes': (50, 50, 50), 'solver': 'adam'}\n",
            "0.500 (+/-0.000) pour {'alpha': 0.0001, 'hidden_layer_sizes': (50, 100, 50), 'solver': 'sgd'}\n",
            "0.545 (+/-0.079) pour {'alpha': 0.0001, 'hidden_layer_sizes': (50, 100, 50), 'solver': 'adam'}\n",
            "0.500 (+/-0.000) pour {'alpha': 0.0001, 'hidden_layer_sizes': (100,), 'solver': 'sgd'}\n",
            "0.563 (+/-0.057) pour {'alpha': 0.0001, 'hidden_layer_sizes': (100,), 'solver': 'adam'}\n",
            "0.500 (+/-0.000) pour {'alpha': 0.05, 'hidden_layer_sizes': (50, 50, 50), 'solver': 'sgd'}\n",
            "0.567 (+/-0.052) pour {'alpha': 0.05, 'hidden_layer_sizes': (50, 50, 50), 'solver': 'adam'}\n",
            "0.500 (+/-0.000) pour {'alpha': 0.05, 'hidden_layer_sizes': (50, 100, 50), 'solver': 'sgd'}\n",
            "0.556 (+/-0.128) pour {'alpha': 0.05, 'hidden_layer_sizes': (50, 100, 50), 'solver': 'adam'}\n",
            "0.500 (+/-0.000) pour {'alpha': 0.05, 'hidden_layer_sizes': (100,), 'solver': 'sgd'}\n",
            "0.555 (+/-0.051) pour {'alpha': 0.05, 'hidden_layer_sizes': (100,), 'solver': 'adam'}\n",
            "\n",
            "Rapport détaillé :\n",
            "              precision    recall  f1-score   support\n",
            "\n",
            "           0       0.86      0.87      0.86       129\n",
            "           1       0.32      0.31      0.31        26\n",
            "\n",
            "    accuracy                           0.77       155\n",
            "   macro avg       0.59      0.59      0.59       155\n",
            "weighted avg       0.77      0.77      0.77       155\n",
            "\n",
            "\n",
            "Test set score: 0.97 \n",
            "Training set score: 0.81 \n"
          ],
          "name": "stdout"
        },
        {
          "output_type": "stream",
          "text": [
            "/usr/local/lib/python3.7/dist-packages/sklearn/neural_network/_multilayer_perceptron.py:571: ConvergenceWarning: Stochastic Optimizer: Maximum iterations (200) reached and the optimization hasn't converged yet.\n",
            "  % self.max_iter, ConvergenceWarning)\n"
          ],
          "name": "stderr"
        }
      ]
    },
    {
      "cell_type": "markdown",
      "metadata": {
        "id": "E0-TWKSq1R-F"
      },
      "source": [
        "Nous avons effectué une comparaisons de tous les modèles testés avec une validation croisée. Nous avons pris le résultat médian pour chacun des modèles pour observer lesquels sont les plus performants de manière stable. Cependant, à quelques rares exceptions près, tous les modèles donnent de résultats similaires avec un score médian compris entre 0,78 et 0,83."
      ]
    },
    {
      "cell_type": "code",
      "metadata": {
        "colab": {
          "background_save": true,
          "base_uri": "https://localhost:8080/"
        },
        "id": "SGw9CO_P_ccp",
        "outputId": "183d0094-7930-46a7-9045-566615598756"
      },
      "source": [
        "\n",
        "seed = 7\n",
        "\n",
        "models = []\n",
        "models.append(('LR', LogisticRegression()))\n",
        "models.append(('LDA', LinearDiscriminantAnalysis()))\n",
        "models.append(('KNN', KNeighborsClassifier()))\n",
        "models.append(('DTC', DecisionTreeClassifier()))\n",
        "models.append(('GNB', GaussianNB()))\n",
        "models.append(('SVC', SVC()))\n",
        "models.append(('RF', RandomForestClassifier()))\n",
        "models.append(('P', Perceptron()))\n",
        "models.append(('MLP', MLPClassifier()))\n",
        "\n",
        "results = []\n",
        "medians = []\n",
        "scoring = 'accuracy'\n",
        "for name, model in models:\n",
        "\tkfold = model_selection.KFold(n_splits=10, random_state=seed)\n",
        "\tcv_results = model_selection.cross_val_score(model, features, target, cv=kfold, scoring=scoring)\n",
        "\tresults.append(cv_results)\n",
        " \n",
        "for i in range(len(results)):\n",
        "  medians.append(np.median(results[i]))\n",
        "\n",
        "liste = ['LR', 'LDA', 'KNN', 'DTC', 'GNB', 'SVC', 'RF', 'P', 'MLP']\n",
        "\n",
        "i = 0\n",
        "for methode in liste:\n",
        "  print(\"median de la methode \", methode, \"est : \", medians[i])\n",
        "  i = i + 1 \n"
      ],
      "execution_count": null,
      "outputs": [
        {
          "output_type": "stream",
          "text": [
            "/usr/local/lib/python3.7/dist-packages/sklearn/model_selection/_split.py:296: FutureWarning: Setting a random_state has no effect since shuffle is False. This will raise an error in 0.24. You should leave random_state to its default (None), or set shuffle=True.\n",
            "  FutureWarning\n",
            "/usr/local/lib/python3.7/dist-packages/sklearn/linear_model/_logistic.py:940: ConvergenceWarning: lbfgs failed to converge (status=1):\n",
            "STOP: TOTAL NO. of ITERATIONS REACHED LIMIT.\n",
            "\n",
            "Increase the number of iterations (max_iter) or scale the data as shown in:\n",
            "    https://scikit-learn.org/stable/modules/preprocessing.html\n",
            "Please also refer to the documentation for alternative solver options:\n",
            "    https://scikit-learn.org/stable/modules/linear_model.html#logistic-regression\n",
            "  extra_warning_msg=_LOGISTIC_SOLVER_CONVERGENCE_MSG)\n",
            "/usr/local/lib/python3.7/dist-packages/sklearn/linear_model/_logistic.py:940: ConvergenceWarning: lbfgs failed to converge (status=1):\n",
            "STOP: TOTAL NO. of ITERATIONS REACHED LIMIT.\n",
            "\n",
            "Increase the number of iterations (max_iter) or scale the data as shown in:\n",
            "    https://scikit-learn.org/stable/modules/preprocessing.html\n",
            "Please also refer to the documentation for alternative solver options:\n",
            "    https://scikit-learn.org/stable/modules/linear_model.html#logistic-regression\n",
            "  extra_warning_msg=_LOGISTIC_SOLVER_CONVERGENCE_MSG)\n",
            "/usr/local/lib/python3.7/dist-packages/sklearn/linear_model/_logistic.py:940: ConvergenceWarning: lbfgs failed to converge (status=1):\n",
            "STOP: TOTAL NO. of ITERATIONS REACHED LIMIT.\n",
            "\n",
            "Increase the number of iterations (max_iter) or scale the data as shown in:\n",
            "    https://scikit-learn.org/stable/modules/preprocessing.html\n",
            "Please also refer to the documentation for alternative solver options:\n",
            "    https://scikit-learn.org/stable/modules/linear_model.html#logistic-regression\n",
            "  extra_warning_msg=_LOGISTIC_SOLVER_CONVERGENCE_MSG)\n",
            "/usr/local/lib/python3.7/dist-packages/sklearn/linear_model/_logistic.py:940: ConvergenceWarning: lbfgs failed to converge (status=1):\n",
            "STOP: TOTAL NO. of ITERATIONS REACHED LIMIT.\n",
            "\n",
            "Increase the number of iterations (max_iter) or scale the data as shown in:\n",
            "    https://scikit-learn.org/stable/modules/preprocessing.html\n",
            "Please also refer to the documentation for alternative solver options:\n",
            "    https://scikit-learn.org/stable/modules/linear_model.html#logistic-regression\n",
            "  extra_warning_msg=_LOGISTIC_SOLVER_CONVERGENCE_MSG)\n",
            "/usr/local/lib/python3.7/dist-packages/sklearn/linear_model/_logistic.py:940: ConvergenceWarning: lbfgs failed to converge (status=1):\n",
            "STOP: TOTAL NO. of ITERATIONS REACHED LIMIT.\n",
            "\n",
            "Increase the number of iterations (max_iter) or scale the data as shown in:\n",
            "    https://scikit-learn.org/stable/modules/preprocessing.html\n",
            "Please also refer to the documentation for alternative solver options:\n",
            "    https://scikit-learn.org/stable/modules/linear_model.html#logistic-regression\n",
            "  extra_warning_msg=_LOGISTIC_SOLVER_CONVERGENCE_MSG)\n",
            "/usr/local/lib/python3.7/dist-packages/sklearn/linear_model/_logistic.py:940: ConvergenceWarning: lbfgs failed to converge (status=1):\n",
            "STOP: TOTAL NO. of ITERATIONS REACHED LIMIT.\n",
            "\n",
            "Increase the number of iterations (max_iter) or scale the data as shown in:\n",
            "    https://scikit-learn.org/stable/modules/preprocessing.html\n",
            "Please also refer to the documentation for alternative solver options:\n",
            "    https://scikit-learn.org/stable/modules/linear_model.html#logistic-regression\n",
            "  extra_warning_msg=_LOGISTIC_SOLVER_CONVERGENCE_MSG)\n",
            "/usr/local/lib/python3.7/dist-packages/sklearn/linear_model/_logistic.py:940: ConvergenceWarning: lbfgs failed to converge (status=1):\n",
            "STOP: TOTAL NO. of ITERATIONS REACHED LIMIT.\n",
            "\n",
            "Increase the number of iterations (max_iter) or scale the data as shown in:\n",
            "    https://scikit-learn.org/stable/modules/preprocessing.html\n",
            "Please also refer to the documentation for alternative solver options:\n",
            "    https://scikit-learn.org/stable/modules/linear_model.html#logistic-regression\n",
            "  extra_warning_msg=_LOGISTIC_SOLVER_CONVERGENCE_MSG)\n",
            "/usr/local/lib/python3.7/dist-packages/sklearn/linear_model/_logistic.py:940: ConvergenceWarning: lbfgs failed to converge (status=1):\n",
            "STOP: TOTAL NO. of ITERATIONS REACHED LIMIT.\n",
            "\n",
            "Increase the number of iterations (max_iter) or scale the data as shown in:\n",
            "    https://scikit-learn.org/stable/modules/preprocessing.html\n",
            "Please also refer to the documentation for alternative solver options:\n",
            "    https://scikit-learn.org/stable/modules/linear_model.html#logistic-regression\n",
            "  extra_warning_msg=_LOGISTIC_SOLVER_CONVERGENCE_MSG)\n",
            "/usr/local/lib/python3.7/dist-packages/sklearn/linear_model/_logistic.py:940: ConvergenceWarning: lbfgs failed to converge (status=1):\n",
            "STOP: TOTAL NO. of ITERATIONS REACHED LIMIT.\n",
            "\n",
            "Increase the number of iterations (max_iter) or scale the data as shown in:\n",
            "    https://scikit-learn.org/stable/modules/preprocessing.html\n",
            "Please also refer to the documentation for alternative solver options:\n",
            "    https://scikit-learn.org/stable/modules/linear_model.html#logistic-regression\n",
            "  extra_warning_msg=_LOGISTIC_SOLVER_CONVERGENCE_MSG)\n",
            "/usr/local/lib/python3.7/dist-packages/sklearn/linear_model/_logistic.py:940: ConvergenceWarning: lbfgs failed to converge (status=1):\n",
            "STOP: TOTAL NO. of ITERATIONS REACHED LIMIT.\n",
            "\n",
            "Increase the number of iterations (max_iter) or scale the data as shown in:\n",
            "    https://scikit-learn.org/stable/modules/preprocessing.html\n",
            "Please also refer to the documentation for alternative solver options:\n",
            "    https://scikit-learn.org/stable/modules/linear_model.html#logistic-regression\n",
            "  extra_warning_msg=_LOGISTIC_SOLVER_CONVERGENCE_MSG)\n",
            "/usr/local/lib/python3.7/dist-packages/sklearn/model_selection/_split.py:296: FutureWarning: Setting a random_state has no effect since shuffle is False. This will raise an error in 0.24. You should leave random_state to its default (None), or set shuffle=True.\n",
            "  FutureWarning\n",
            "/usr/local/lib/python3.7/dist-packages/sklearn/model_selection/_split.py:296: FutureWarning: Setting a random_state has no effect since shuffle is False. This will raise an error in 0.24. You should leave random_state to its default (None), or set shuffle=True.\n",
            "  FutureWarning\n",
            "/usr/local/lib/python3.7/dist-packages/sklearn/model_selection/_split.py:296: FutureWarning: Setting a random_state has no effect since shuffle is False. This will raise an error in 0.24. You should leave random_state to its default (None), or set shuffle=True.\n",
            "  FutureWarning\n",
            "/usr/local/lib/python3.7/dist-packages/sklearn/model_selection/_split.py:296: FutureWarning: Setting a random_state has no effect since shuffle is False. This will raise an error in 0.24. You should leave random_state to its default (None), or set shuffle=True.\n",
            "  FutureWarning\n",
            "/usr/local/lib/python3.7/dist-packages/sklearn/model_selection/_split.py:296: FutureWarning: Setting a random_state has no effect since shuffle is False. This will raise an error in 0.24. You should leave random_state to its default (None), or set shuffle=True.\n",
            "  FutureWarning\n",
            "/usr/local/lib/python3.7/dist-packages/sklearn/model_selection/_split.py:296: FutureWarning: Setting a random_state has no effect since shuffle is False. This will raise an error in 0.24. You should leave random_state to its default (None), or set shuffle=True.\n",
            "  FutureWarning\n",
            "/usr/local/lib/python3.7/dist-packages/sklearn/model_selection/_split.py:296: FutureWarning: Setting a random_state has no effect since shuffle is False. This will raise an error in 0.24. You should leave random_state to its default (None), or set shuffle=True.\n",
            "  FutureWarning\n",
            "/usr/local/lib/python3.7/dist-packages/sklearn/model_selection/_split.py:296: FutureWarning: Setting a random_state has no effect since shuffle is False. This will raise an error in 0.24. You should leave random_state to its default (None), or set shuffle=True.\n",
            "  FutureWarning\n",
            "/usr/local/lib/python3.7/dist-packages/sklearn/neural_network/_multilayer_perceptron.py:571: ConvergenceWarning: Stochastic Optimizer: Maximum iterations (200) reached and the optimization hasn't converged yet.\n",
            "  % self.max_iter, ConvergenceWarning)\n"
          ],
          "name": "stderr"
        }
      ]
    },
    {
      "cell_type": "markdown",
      "metadata": {
        "id": "wWHk864o506y"
      },
      "source": [
        "# **Les prédicteurs**"
      ]
    },
    {
      "cell_type": "markdown",
      "metadata": {
        "id": "CY2aVus65KCn"
      },
      "source": [
        "Pour le choix des prédicteurs qu'on va livrer en fin de cette étude, on cite les 3 meilleurs modèles pour ce jeu de données :\n",
        "*   SVC\n",
        "*   RandomForest\n",
        "*   MLP\n",
        "\n"
      ]
    },
    {
      "cell_type": "markdown",
      "metadata": {
        "id": "Cse5KsyA5_nP"
      },
      "source": [
        "On a choisi la matrice de confusion comme repère pour nous guider quel prédicteur est meilleur par rapport aux autres.\n",
        "Cette matrice mesure la qualité d'un système de classification. \n",
        "Chaque ligne correspond à une classe réelle, chaque colonne correspond à une classe estimée."
      ]
    },
    {
      "cell_type": "markdown",
      "metadata": {
        "id": "oGotPhiF6yx1"
      },
      "source": [
        "Comme on le voit dans une matrice de confusion, chaque composant représente un scénario différent et \n",
        "peut être interprété différemment pour dériver des mesures autres que la précision. \n",
        "Les plus courants sont la précision , le rappel, le score F1 et le support."
      ]
    },
    {
      "cell_type": "markdown",
      "metadata": {
        "id": "Yo6y5xNH63N9"
      },
      "source": [
        "La précision est utilisée pour mesurer les modèles positifs qui sont correctement prédits à partir du total des modèles prédits dans une classe positive."
      ]
    },
    {
      "cell_type": "markdown",
      "metadata": {
        "id": "k02qmJGS7C0x"
      },
      "source": [
        "Le rappel est utilisée pour mesurer la fraction des positifs motifs qui sont correctement classés."
      ]
    },
    {
      "cell_type": "markdown",
      "metadata": {
        "id": "G57WGIHO8Kuu"
      },
      "source": [
        "Score F1 cette métrique représente la moyenne harmonique entre les valeurs de rappel et de précision , parfois également appelée mesure F."
      ]
    },
    {
      "cell_type": "markdown",
      "metadata": {
        "id": "apQGcNoK8QAT"
      },
      "source": [
        "Le support est le nombre d'échantillons de la vraie réponse qui se trouvent dans cette classe."
      ]
    },
    {
      "cell_type": "markdown",
      "metadata": {
        "id": "nA0YdXOJ9gY9"
      },
      "source": [
        "L'erreur absolue moyenne (EAM ou MAE pour Mean Absolute Error) : moyenne arithmétique des valeurs absolues des écarts."
      ]
    },
    {
      "cell_type": "markdown",
      "metadata": {
        "id": "6oT4PoCZ9h2A"
      },
      "source": [
        "Le carré moyen des erreurs (MSE pour Mean Square Error ou MCE pour moyenne des carrés des erreurs) : c’est la moyenne arithmétique des carrés des écarts entre prévisions du modèle et observations."
      ]
    },
    {
      "cell_type": "markdown",
      "metadata": {
        "id": "x5dZPypx9lKJ"
      },
      "source": [
        "L’erreur quadratique moyenne (RMSE) : racine carrée du précédent."
      ]
    },
    {
      "cell_type": "markdown",
      "metadata": {
        "id": "CYf7FTwl-tYb"
      },
      "source": [
        "Les poids du class_weight paramètre sont utilisés pour entraîner le classificateur . Ils ne sont utilisés dans le calcul d'aucune des métriques qu'on utilise : avec des poids de classe différents, les nombres seront différents simplement parce que le classificateur est différent.\n",
        "\n",
        "Fondamentalement, dans chaque classificateur scikit-learn, les poids de classe sont utilisés pour indiquer à notre modèle l'importance d'une classe. Cela signifie que pendant la formation, le classificateur fera des efforts supplémentaires pour classer correctement les classes avec des poids élevés."
      ]
    },
    {
      "cell_type": "markdown",
      "metadata": {
        "id": "gfTvkTjg-wNG"
      },
      "source": [
        "Habituellement, lorsque la distribution des classes est déséquilibrée, la précision est considérée comme un mauvais choix car elle donne des scores élevés aux modèles qui ne font que prédire la classe la plus fréquente."
      ]
    },
    {
      "cell_type": "markdown",
      "metadata": {
        "id": "o6h9WkSX8VWm"
      },
      "source": [
        "**Le prédicteur SVC**"
      ]
    },
    {
      "cell_type": "code",
      "metadata": {
        "colab": {
          "background_save": true
        },
        "id": "pyhV9obEFpOv",
        "outputId": "67628e12-3ed6-4b59-81fe-1622cc337f19"
      },
      "source": [
        "def predictor_SVC(xx,yy):\n",
        "  y_pred = svc.predict(xx)\n",
        "  cp=pd.DataFrame({'Actual': yy, 'Predicted': y_pred})\n",
        "  print(cp) \n",
        "  print(confusion_matrix(yy,y_pred))\n",
        "  print(classification_report(yy,y_pred))\n",
        "  print(accuracy_score(yy, y_pred))\n",
        "  print('Mean Absolute Error:', metrics.mean_absolute_error(yy, y_pred))\n",
        "  print('Mean Squared Error:', metrics.mean_squared_error(yy, y_pred))\n",
        "  print('Root Mean Squared Error:', np.sqrt(metrics.mean_squared_error(yy, y_pred)))\n",
        "\n",
        "  plt.figure(figsize=(5, 7))\n",
        "\n",
        "\n",
        "  ax = sns.distplot(yy, hist=False, color=\"r\", label=\"Actual Value\")\n",
        "  sns.distplot(y_pred, hist=False, color=\"b\", label=\"Fitted Values\" , ax=ax)\n",
        "\n",
        "\n",
        "  plt.title('Actual vs Fitted Values for Suicide Attempts')\n",
        "\n",
        "\n",
        "  plt.show()\n",
        "  plt.close()\n",
        "predictor_SVC(X_test,y_test)\n"
      ],
      "execution_count": null,
      "outputs": [
        {
          "output_type": "stream",
          "text": [
            "/usr/local/lib/python3.7/dist-packages/seaborn/distributions.py:2557: FutureWarning: `distplot` is a deprecated function and will be removed in a future version. Please adapt your code to use either `displot` (a figure-level function with similar flexibility) or `kdeplot` (an axes-level function for kernel density plots).\n",
            "  warnings.warn(msg, FutureWarning)\n",
            "/usr/local/lib/python3.7/dist-packages/seaborn/distributions.py:2557: FutureWarning: `distplot` is a deprecated function and will be removed in a future version. Please adapt your code to use either `displot` (a figure-level function with similar flexibility) or `kdeplot` (an axes-level function for kernel density plots).\n",
            "  warnings.warn(msg, FutureWarning)\n"
          ],
          "name": "stderr"
        },
        {
          "output_type": "stream",
          "text": [
            "     Actual  Predicted\n",
            "366       0          0\n",
            "324       0          0\n",
            "126       0          0\n",
            "208       0          0\n",
            "446       0          0\n",
            "..      ...        ...\n",
            "18        1          0\n",
            "286       0          0\n",
            "216       0          0\n",
            "417       0          0\n",
            "59        0          0\n",
            "\n",
            "[155 rows x 2 columns]\n",
            "[[128   1]\n",
            " [ 23   3]]\n",
            "              precision    recall  f1-score   support\n",
            "\n",
            "           0       0.85      0.99      0.91       129\n",
            "           1       0.75      0.12      0.20        26\n",
            "\n",
            "    accuracy                           0.85       155\n",
            "   macro avg       0.80      0.55      0.56       155\n",
            "weighted avg       0.83      0.85      0.79       155\n",
            "\n",
            "0.8451612903225807\n",
            "Mean Absolute Error: 0.15483870967741936\n",
            "Mean Squared Error: 0.15483870967741936\n",
            "Root Mean Squared Error: 0.39349550147037177\n"
          ],
          "name": "stdout"
        },
        {
          "output_type": "display_data",
          "data": {
            "image/png": "[encoded data removed]",
            "text/plain": [
              "<Figure size 360x504 with 1 Axes>"
            ]
          },
          "metadata": {
            "tags": []
          }
        }
      ]
    },
    {
      "cell_type": "markdown",
      "metadata": {
        "id": "F_yK9dZ98bVA"
      },
      "source": [
        "**Le prédicteur RandomForest**"
      ]
    },
    {
      "cell_type": "code",
      "metadata": {
        "id": "cVvyfX5tt9FT"
      },
      "source": [
        "def predictor_RF(xx,yy):\n",
        "  y_pred = rf.predict(xx)\n",
        "  cp=pd.DataFrame({'Actual': yy, 'Predicted': y_pred})\n",
        "  print(cp) \n",
        "  print(confusion_matrix(yy,y_pred))\n",
        "  print(classification_report(yy,y_pred))\n",
        "  print(accuracy_score(yy, y_pred))\n",
        "  print('Mean Absolute Error:', metrics.mean_absolute_error(yy, y_pred))\n",
        "  print('Mean Squared Error:', metrics.mean_squared_error(yy, y_pred))\n",
        "  print('Root Mean Squared Error:', np.sqrt(metrics.mean_squared_error(yy, y_pred)))\n",
        "\n",
        "  plt.figure(figsize=(5, 7))\n",
        "\n",
        "\n",
        "  ax = sns.distplot(yy, hist=False, color=\"r\", label=\"Actual Value\")\n",
        "  sns.distplot(y_pred, hist=False, color=\"b\", label=\"Fitted Values\" , ax=ax)\n",
        "\n",
        "\n",
        "  plt.title('Actual vs Fitted Values for Suicide Attempts')\n",
        "\n",
        "\n",
        "  plt.show()\n",
        "  plt.close()\n",
        "predictor_RF(X_test,y_test)\n"
      ],
      "execution_count": null,
      "outputs": []
    },
    {
      "cell_type": "markdown",
      "metadata": {
        "id": "2IJD5frX8fjV"
      },
      "source": [
        "**Le prédicteur MLP**"
      ]
    },
    {
      "cell_type": "code",
      "metadata": {
        "id": "ffk1iUNKifeb"
      },
      "source": [
        "def predictor_MLP(xx,yy):\n",
        "  y_pred = mlp.predict(xx)\n",
        "  cp=pd.DataFrame({'Actual': yy, 'Predicted': y_pred})\n",
        "  print(cp) \n",
        "  print(confusion_matrix(yy,y_pred))\n",
        "  print(classification_report(yy,y_pred))\n",
        "  print(accuracy_score(yy, y_pred))\n",
        "  print('Mean Absolute Error:', metrics.mean_absolute_error(yy, y_pred))\n",
        "  print('Mean Squared Error:', metrics.mean_squared_error(yy, y_pred))\n",
        "  print('Root Mean Squared Error:', np.sqrt(metrics.mean_squared_error(yy, y_pred)))\n",
        "\n",
        "  plt.figure(figsize=(5, 7))\n",
        "\n",
        "\n",
        "  ax = sns.distplot(yy, hist=False, color=\"r\", label=\"Actual Value\")\n",
        "  sns.distplot(y_pred, hist=False, color=\"b\", label=\"Fitted Values\" , ax=ax)\n",
        "\n",
        "\n",
        "  plt.title('Actual vs Fitted Values for Suicide Attempts')\n",
        "\n",
        "\n",
        "  plt.show()\n",
        "  plt.close()\n",
        "predictor_MLP(X_test,y_test)"
      ],
      "execution_count": null,
      "outputs": []
    },
    {
      "cell_type": "markdown",
      "metadata": {
        "id": "ELLrRHw__CNC"
      },
      "source": [
        "Enfin pour les trois méthodes que nous avons retenues, nous avons calculé les Mean Absolute Errors et Mean Squared Errors et affiché les densités prédites pour les comparer aux densités réelles sur le test set.\n",
        "Les résultats varient légèrement d'une exécution à une autre, mais on remarque que les erreurs sont assez similaires pour chaque modèle. Cependant, la courbe de prédiction pour le prédicteur MLP se rapproche nettement plus de la courbe réelle, et nous recommandons donc l'utilisation de ce prédicteur pour la résolution de ce problème."
      ]
    }
  ]
}